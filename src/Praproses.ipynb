{
 "cells": [
  {
   "cell_type": "code",
   "execution_count": 1,
   "metadata": {},
   "outputs": [],
   "source": [
    "import pandas as pd\n",
    "import nltk\n",
    "\n",
    "from Sastrawi.Stemmer.StemmerFactory import StemmerFactory\n",
    "from nltk.stem import WordNetLemmatizer\n",
    "\n",
    "from nltk.corpus import stopwords\n",
    "from nltk.tokenize import sent_tokenize, word_tokenize\n",
    "import pickle\n",
    "\n",
    "import time\n",
    "\n",
    "import warnings\n",
    "warnings.filterwarnings(\"ignore\")"
   ]
  },
  {
   "cell_type": "code",
   "execution_count": 2,
   "metadata": {},
   "outputs": [],
   "source": [
    "dataset = pd.read_csv(\"../data/dataset/dataset.csv\", sep=';', encoding=\"ISO-8859-1\")"
   ]
  },
  {
   "cell_type": "code",
   "execution_count": 3,
   "metadata": {},
   "outputs": [
    {
     "data": {
      "text/html": [
       "<div>\n",
       "<style scoped>\n",
       "    .dataframe tbody tr th:only-of-type {\n",
       "        vertical-align: middle;\n",
       "    }\n",
       "\n",
       "    .dataframe tbody tr th {\n",
       "        vertical-align: top;\n",
       "    }\n",
       "\n",
       "    .dataframe thead th {\n",
       "        text-align: right;\n",
       "    }\n",
       "</style>\n",
       "<table border=\"1\" class=\"dataframe\">\n",
       "  <thead>\n",
       "    <tr style=\"text-align: right;\">\n",
       "      <th></th>\n",
       "      <th>Tweet</th>\n",
       "      <th>label</th>\n",
       "    </tr>\n",
       "  </thead>\n",
       "  <tbody>\n",
       "    <tr>\n",
       "      <th>0</th>\n",
       "      <td>Min, normal ke kalau iPhone 11/11 Pro /Pro Max...</td>\n",
       "      <td>baterai negatif</td>\n",
       "    </tr>\n",
       "    <tr>\n",
       "      <th>1</th>\n",
       "      <td>Kmera iphone 11 mmeng beda</td>\n",
       "      <td>kamera positif</td>\n",
       "    </tr>\n",
       "    <tr>\n",
       "      <th>2</th>\n",
       "      <td>Iphone 11 pro max kamera depannya jelek ye? Gu...</td>\n",
       "      <td>kamera negatif</td>\n",
       "    </tr>\n",
       "    <tr>\n",
       "      <th>3</th>\n",
       "      <td>Apple meluncurkan iPhone 11 dengan peningkatan...</td>\n",
       "      <td>baterai positif</td>\n",
       "    </tr>\n",
       "    <tr>\n",
       "      <th>4</th>\n",
       "      <td>xs max, senderrr. tapi rugi sih kalo kamu beli...</td>\n",
       "      <td>spesifikasi  positif</td>\n",
       "    </tr>\n",
       "  </tbody>\n",
       "</table>\n",
       "</div>"
      ],
      "text/plain": [
       "                                               Tweet                 label\n",
       "0  Min, normal ke kalau iPhone 11/11 Pro /Pro Max...       baterai negatif\n",
       "1                         Kmera iphone 11 mmeng beda        kamera positif\n",
       "2  Iphone 11 pro max kamera depannya jelek ye? Gu...        kamera negatif\n",
       "3  Apple meluncurkan iPhone 11 dengan peningkatan...       baterai positif\n",
       "4  xs max, senderrr. tapi rugi sih kalo kamu beli...  spesifikasi  positif"
      ]
     },
     "execution_count": 3,
     "metadata": {},
     "output_type": "execute_result"
    }
   ],
   "source": [
    "dataset.head()"
   ]
  },
  {
   "cell_type": "markdown",
   "metadata": {},
   "source": [
    "## Clean Data"
   ]
  },
  {
   "cell_type": "markdown",
   "metadata": {},
   "source": [
    "1. Menghilangkan simbol"
   ]
  },
  {
   "cell_type": "code",
   "execution_count": 4,
   "metadata": {},
   "outputs": [],
   "source": [
    "def clean(data):\n",
    "    data['Tweet_Parsed_1'] = data['Tweet'].str.replace(\"\\\\\\\\r\", \" \")\n",
    "    data['Tweet_Parsed_1'] = data['Tweet_Parsed_1'].str.replace(\"\\\\\\\\n\", \" \")\n",
    "    data['Tweet_Parsed_1'] = data['Tweet_Parsed_1'].str.replace(\"\\n\", \" \")\n",
    "    data['Tweet_Parsed_1'] = data['Tweet_Parsed_1'].str.replace(\"\\r\", \" \")\n",
    "    data['Tweet_Parsed_1'] = data['Tweet_Parsed_1'].str.replace(\"&amp\", \" \")\n",
    "    data['Tweet_Parsed_1'] = data['Tweet_Parsed_1'].str.replace(\"&gt\", \" \")\n",
    "    data['Tweet_Parsed_1'] = data['Tweet_Parsed_1'].str.replace(\"&lt\", \" \")\n",
    "    data['Tweet_Parsed_1'] = data['Tweet_Parsed_1'].str.replace(\"    \", \" \")\n",
    "    data['Tweet_Parsed_1'] = data['Tweet_Parsed_1'].str.replace(r'''(?i)\\b((?:https|http?://|www\\d{0,3}[.]|[a-z0-9.\\-]+[.][a-z]{2,4}/)(?:[^\\s()<>]+|\\(([^\\s()<>]+|(\\([^\\s()<>]+\\)))*\\))+(?:\\(([^\\s()<>]+|(\\([^\\s()<>]+\\)))*\\)|[^\\s`!()\\[\\]{};:'\".,<>?«»“”‘’]))''', \" \")\n",
    "    data['Tweet_Parsed_1'] = data['Tweet_Parsed_1'].str.replace('\"', '')\n",
    "    data['Tweet_Parsed_1'] = data['Tweet_Parsed_1'].str.replace(\"\\\\\\\\x[a-zA-z0-9][a-zA-z0-9]\",\"\")\n",
    "    return data"
   ]
  },
  {
   "cell_type": "code",
   "execution_count": 5,
   "metadata": {},
   "outputs": [],
   "source": [
    "dataset = clean(dataset)"
   ]
  },
  {
   "cell_type": "markdown",
   "metadata": {},
   "source": [
    "2. Lowercase"
   ]
  },
  {
   "cell_type": "code",
   "execution_count": 6,
   "metadata": {},
   "outputs": [],
   "source": [
    "def lowercase(data):\n",
    "    data['Tweet_Parsed_2'] = data['Tweet_Parsed_1'].str.lower()\n",
    "    return data"
   ]
  },
  {
   "cell_type": "code",
   "execution_count": 7,
   "metadata": {},
   "outputs": [],
   "source": [
    "dataset = lowercase(dataset)"
   ]
  },
  {
   "cell_type": "markdown",
   "metadata": {},
   "source": [
    "3. Menghilangkan tanda baca"
   ]
  },
  {
   "cell_type": "code",
   "execution_count": 8,
   "metadata": {},
   "outputs": [],
   "source": [
    "def removepunct(data):\n",
    "    data['Tweet_Parsed_3'] = data['Tweet_Parsed_2']\n",
    "    data['Tweet_Parsed_3'] = data['Tweet_Parsed_3'].str.replace(\"'s\",\"\")\n",
    "    data['Tweet_Parsed_3'] = data['Tweet_Parsed_3'].str.replace(\"can't\",\"can not\")\n",
    "    data['Tweet_Parsed_3'] = data['Tweet_Parsed_3'].str.replace(\"ain't\",\"am not\")\n",
    "    data['Tweet_Parsed_3'] = data['Tweet_Parsed_3'].str.replace(\"n't\",\" not\")\n",
    "    data['Tweet_Parsed_3'] = data['Tweet_Parsed_3'].str.replace(\"'re\",\" are\")\n",
    "    data['Tweet_Parsed_3'] = data['Tweet_Parsed_3'].str.replace('[^a-zA-Z0-9]+',' ')\n",
    "    return data"
   ]
  },
  {
   "cell_type": "code",
   "execution_count": 9,
   "metadata": {},
   "outputs": [],
   "source": [
    "dataset = removepunct(dataset)"
   ]
  },
  {
   "cell_type": "markdown",
   "metadata": {},
   "source": [
    "## Normalization"
   ]
  },
  {
   "cell_type": "code",
   "execution_count": 10,
   "metadata": {},
   "outputs": [],
   "source": [
    "normal = pd.read_csv(\"../data/normalisasi/kamusnormalisasi.csv\", sep=\",\", encoding='latin-1',header=None,names=[\"non-standar\",\"standar\"])"
   ]
  },
  {
   "cell_type": "code",
   "execution_count": 11,
   "metadata": {},
   "outputs": [
    {
     "data": {
      "text/html": [
       "<div>\n",
       "<style scoped>\n",
       "    .dataframe tbody tr th:only-of-type {\n",
       "        vertical-align: middle;\n",
       "    }\n",
       "\n",
       "    .dataframe tbody tr th {\n",
       "        vertical-align: top;\n",
       "    }\n",
       "\n",
       "    .dataframe thead th {\n",
       "        text-align: right;\n",
       "    }\n",
       "</style>\n",
       "<table border=\"1\" class=\"dataframe\">\n",
       "  <thead>\n",
       "    <tr style=\"text-align: right;\">\n",
       "      <th></th>\n",
       "      <th>non-standar</th>\n",
       "      <th>standar</th>\n",
       "    </tr>\n",
       "  </thead>\n",
       "  <tbody>\n",
       "    <tr>\n",
       "      <th>0</th>\n",
       "      <td>kmera</td>\n",
       "      <td>kamera</td>\n",
       "    </tr>\n",
       "    <tr>\n",
       "      <th>1</th>\n",
       "      <td>dijangka</td>\n",
       "      <td>dalam</td>\n",
       "    </tr>\n",
       "    <tr>\n",
       "      <th>2</th>\n",
       "      <td>dimuatkan</td>\n",
       "      <td>dimasukan</td>\n",
       "    </tr>\n",
       "    <tr>\n",
       "      <th>3</th>\n",
       "      <td>kapasiti</td>\n",
       "      <td>kapasitas</td>\n",
       "    </tr>\n",
       "    <tr>\n",
       "      <th>4</th>\n",
       "      <td>bateri</td>\n",
       "      <td>baterai</td>\n",
       "    </tr>\n",
       "    <tr>\n",
       "      <th>...</th>\n",
       "      <td>...</td>\n",
       "      <td>...</td>\n",
       "    </tr>\n",
       "    <tr>\n",
       "      <th>282</th>\n",
       "      <td>mmg</td>\n",
       "      <td>memang</td>\n",
       "    </tr>\n",
       "    <tr>\n",
       "      <th>283</th>\n",
       "      <td>software</td>\n",
       "      <td>perangkat lunak</td>\n",
       "    </tr>\n",
       "    <tr>\n",
       "      <th>284</th>\n",
       "      <td>say</td>\n",
       "      <td>mengatakan</td>\n",
       "    </tr>\n",
       "    <tr>\n",
       "      <th>285</th>\n",
       "      <td>bangettt</td>\n",
       "      <td>sekali</td>\n",
       "    </tr>\n",
       "    <tr>\n",
       "      <th>286</th>\n",
       "      <td>guno</td>\n",
       "      <td>berguna</td>\n",
       "    </tr>\n",
       "  </tbody>\n",
       "</table>\n",
       "<p>287 rows × 2 columns</p>\n",
       "</div>"
      ],
      "text/plain": [
       "    non-standar          standar\n",
       "0         kmera           kamera\n",
       "1      dijangka            dalam\n",
       "2     dimuatkan        dimasukan\n",
       "3      kapasiti        kapasitas\n",
       "4        bateri          baterai\n",
       "..          ...              ...\n",
       "282         mmg           memang\n",
       "283    software  perangkat lunak\n",
       "284         say       mengatakan\n",
       "285    bangettt           sekali\n",
       "286        guno          berguna\n",
       "\n",
       "[287 rows x 2 columns]"
      ]
     },
     "execution_count": 11,
     "metadata": {},
     "output_type": "execute_result"
    }
   ],
   "source": [
    "normal"
   ]
  },
  {
   "cell_type": "code",
   "execution_count": 12,
   "metadata": {},
   "outputs": [],
   "source": [
    "nonstandar = normal['non-standar'].values.tolist()\n",
    "standar = normal['standar'].values.tolist()"
   ]
  },
  {
   "cell_type": "code",
   "execution_count": 13,
   "metadata": {},
   "outputs": [],
   "source": [
    "def normalizeText(text, st_, nst_):\n",
    "#     text = text.split(\" \") \n",
    "    text = str(text).split(\" \")\n",
    "    for i in range(len(text)):\n",
    "        if text[i] in nst_:\n",
    "            index = nst_.index(text[i])\n",
    "            text[i] = st_[index]\n",
    "    return ' '.join(map(str, text))\n",
    "\n",
    "def normalizeData(data, st_, nst_):\n",
    "    data['Tweet_Parsed_4'] = data['Tweet_Parsed_3']\n",
    "    data['Tweet_Parsed_4'] = data['Tweet_Parsed_4'].map(lambda com : normalizeText(com,st_,nst_))\n",
    "    return data"
   ]
  },
  {
   "cell_type": "code",
   "execution_count": 14,
   "metadata": {},
   "outputs": [],
   "source": [
    "dataset = normalizeData(dataset,standar,nonstandar)"
   ]
  },
  {
   "cell_type": "code",
   "execution_count": 15,
   "metadata": {},
   "outputs": [],
   "source": [
    "dataset.to_csv(\"../data/dataset/data_normalizazionprocess_checkpoint.csv\",index = False,sep=\";\")"
   ]
  },
  {
   "cell_type": "markdown",
   "metadata": {},
   "source": [
    "1. Menghilangkan Angka"
   ]
  },
  {
   "cell_type": "code",
   "execution_count": 16,
   "metadata": {},
   "outputs": [],
   "source": [
    "def removeNumb(data):\n",
    "    data['Tweet_Parsed_4'] = data['Tweet_Parsed_4'].str.replace('[^a-zA-Z]+',' ')\n",
    "    return data"
   ]
  },
  {
   "cell_type": "code",
   "execution_count": 17,
   "metadata": {},
   "outputs": [],
   "source": [
    "dataset = removeNumb(dataset)"
   ]
  },
  {
   "cell_type": "markdown",
   "metadata": {},
   "source": [
    "2. Menghilangkan kata tidak bermakna"
   ]
  },
  {
   "cell_type": "code",
   "execution_count": 18,
   "metadata": {},
   "outputs": [],
   "source": [
    "meaningless = pd.read_csv(\"../data/stopword/stop.csv\", header=None, names=['stop'])\n",
    "meaningless = meaningless['stop'].tolist()"
   ]
  },
  {
   "cell_type": "code",
   "execution_count": 19,
   "metadata": {},
   "outputs": [
    {
     "data": {
      "text/plain": [
       "['stop',\n",
       " 'leaks',\n",
       " 'sis',\n",
       " 'guys',\n",
       " 'boi',\n",
       " 'dah',\n",
       " 'btw',\n",
       " 'lol',\n",
       " 'koook',\n",
       " 'the',\n",
       " 'way',\n",
       " 'by',\n",
       " 'pun',\n",
       " 'bajingan',\n",
       " 'sumpah',\n",
       " 'yaampuuun',\n",
       " 'siiih',\n",
       " 'shopee',\n",
       " 'shopeeid',\n",
       " 'nih',\n",
       " 'sih',\n",
       " 'si',\n",
       " 'ayo',\n",
       " 'ya',\n",
       " 'oh',\n",
       " 'to',\n",
       " 'yung',\n",
       " 'hai',\n",
       " 'lang',\n",
       " 'nya',\n",
       " 'haha',\n",
       " 'ya',\n",
       " 'nih',\n",
       " 'shopeedarirumah',\n",
       " 'tolong',\n",
       " 'wkwk',\n",
       " 'kah',\n",
       " 'dong',\n",
       " 'doang',\n",
       " 'hai',\n",
       " 'hihi',\n",
       " 'hiks',\n",
       " 'huft',\n",
       " 'yang',\n",
       " 'ya',\n",
       " 'ni',\n",
       " 'sialla',\n",
       " 'nder',\n",
       " 'wowowoowow',\n",
       " 'ken',\n",
       " 'ha',\n",
       " 'mai',\n",
       " 'amik',\n",
       " 'sihh',\n",
       " 'ko',\n",
       " 'btsarmy',\n",
       " 'btsfesta',\n",
       " 'bts',\n",
       " 'twt',\n",
       " 'heu',\n",
       " 'anjrit',\n",
       " 'lh',\n",
       " 'alang',\n",
       " 'wow',\n",
       " 'senderr',\n",
       " 'ekekekeke',\n",
       " 'sender',\n",
       " 'atuh',\n",
       " 'babi',\n",
       " 'aja',\n",
       " 'gitu',\n",
       " 'duh',\n",
       " 'bro',\n",
       " 'huhu',\n",
       " 'hehehe',\n",
       " 'ahahhahah',\n",
       " 'haih',\n",
       " 'superb',\n",
       " 'ngentot',\n",
       " 'minn',\n",
       " 'yah',\n",
       " 'iphone',\n",
       " 'pro',\n",
       " 'max',\n",
       " 'xs',\n",
       " 'apple',\n",
       " 'x',\n",
       " 'promax',\n",
       " 'allah']"
      ]
     },
     "execution_count": 19,
     "metadata": {},
     "output_type": "execute_result"
    }
   ],
   "source": [
    "meaningless"
   ]
  },
  {
   "cell_type": "code",
   "execution_count": 20,
   "metadata": {},
   "outputs": [],
   "source": [
    "def removeMeaningless(data,meaningless_):\n",
    "    for word in meaningless_:\n",
    "        regex_meaningless = r\"\\b\" + word + r\"\\b\"\n",
    "        data['Tweet_Parsed_4'] = data['Tweet_Parsed_4'].str.replace(regex_meaningless, '')\n",
    "    return data"
   ]
  },
  {
   "cell_type": "code",
   "execution_count": 21,
   "metadata": {},
   "outputs": [],
   "source": [
    "dataset = removeMeaningless(dataset,meaningless)"
   ]
  },
  {
   "cell_type": "markdown",
   "metadata": {},
   "source": [
    "## Stemming"
   ]
  },
  {
   "cell_type": "code",
   "execution_count": 22,
   "metadata": {},
   "outputs": [],
   "source": [
    "factory = StemmerFactory()\n",
    "stemmerID = factory.create_stemmer()"
   ]
  },
  {
   "cell_type": "code",
   "execution_count": 23,
   "metadata": {},
   "outputs": [],
   "source": [
    "def stemming(text, stemmer_id):\n",
    "    text_split = text.split(\" \")\n",
    "    stemmed_list = []\n",
    "    for i in text_split:\n",
    "        stem_text1 = stemmer_id.stem(i)\n",
    "#         stem_text2 = stemmer_en.lemmatize(stem_text1, pos=\"v\")\n",
    "#         stem_text3 = stemmer_en.lemmatize(stem_text2, pos=\"n\")\n",
    "#         stem_text4 = stemmer_en.lemmatize(stem_text3, pos=\"a\")\n",
    "        stemmed_list.append(stem_text1)\n",
    "    stemmed = ' '.join(map(str,stemmed_list))\n",
    "    return stemmed\n",
    "\n",
    "def stemData(data, stemmer_id):\n",
    "    data['Tweet_Parsed_5'] = data['Tweet_Parsed_4']\n",
    "    data['Tweet_Parsed_5'] = data['Tweet_Parsed_5'].map(lambda com : stemming(com,stemmer_id))\n",
    "    return data"
   ]
  },
  {
   "cell_type": "code",
   "execution_count": 24,
   "metadata": {},
   "outputs": [],
   "source": [
    "dataset = stemData(dataset, stemmerID)"
   ]
  },
  {
   "cell_type": "code",
   "execution_count": 25,
   "metadata": {},
   "outputs": [],
   "source": [
    "dataset.to_csv(\"../data/dataset/data_stemmingonprocess_checkpoint.csv\",index = False,sep=\";\")"
   ]
  },
  {
   "cell_type": "markdown",
   "metadata": {},
   "source": [
    "## Stopword Removal"
   ]
  },
  {
   "cell_type": "code",
   "execution_count": 26,
   "metadata": {},
   "outputs": [
    {
     "name": "stderr",
     "output_type": "stream",
     "text": [
      "[nltk_data] Downloading package stopwords to\n",
      "[nltk_data]     C:\\Users\\user\\AppData\\Roaming\\nltk_data...\n",
      "[nltk_data]   Package stopwords is already up-to-date!\n"
     ]
    },
    {
     "data": {
      "text/plain": [
       "True"
      ]
     },
     "execution_count": 26,
     "metadata": {},
     "output_type": "execute_result"
    }
   ],
   "source": [
    "nltk.download('stopwords')"
   ]
  },
  {
   "cell_type": "code",
   "execution_count": 27,
   "metadata": {},
   "outputs": [],
   "source": [
    "stop_words = list(stopwords.words('indonesian')) + list(stopwords.words('english'))\n",
    "stop_words = stop_words+[\"rt\",\"retweet\",\"url\"]"
   ]
  },
  {
   "cell_type": "code",
   "execution_count": 28,
   "metadata": {},
   "outputs": [
    {
     "data": {
      "text/plain": [
       "['adalah',\n",
       " 'adanya',\n",
       " 'adapun',\n",
       " 'agak',\n",
       " 'agaknya',\n",
       " 'agar',\n",
       " 'akan',\n",
       " 'akankah',\n",
       " 'akhir']"
      ]
     },
     "execution_count": 28,
     "metadata": {},
     "output_type": "execute_result"
    }
   ],
   "source": [
    "stop_words[1:10]"
   ]
  },
  {
   "cell_type": "code",
   "execution_count": 29,
   "metadata": {},
   "outputs": [
    {
     "data": {
      "text/plain": [
       "940"
      ]
     },
     "execution_count": 29,
     "metadata": {},
     "output_type": "execute_result"
    }
   ],
   "source": [
    "len(stop_words)"
   ]
  },
  {
   "cell_type": "code",
   "execution_count": 30,
   "metadata": {},
   "outputs": [],
   "source": [
    "# with open(\"../data/stopword/stopword_nonltk.pkl\",\"rb\") as f:\n",
    "#     stopword_nonltk = pickle.load(f)"
   ]
  },
  {
   "cell_type": "code",
   "execution_count": 31,
   "metadata": {},
   "outputs": [],
   "source": [
    "# len(stopword_nonltk)"
   ]
  },
  {
   "cell_type": "code",
   "execution_count": 32,
   "metadata": {},
   "outputs": [],
   "source": [
    "def removeStopword(data,stop_words_):\n",
    "    data['Tweet_Parsed_6'] = data['Tweet_Parsed_5']\n",
    "    for stop_word in stop_words_:\n",
    "        regex_stopword = r\"\\b\" + stop_word + r\"\\b\"\n",
    "        data['Tweet_Parsed_6'] = data['Tweet_Parsed_6'].str.replace(regex_stopword, '')\n",
    "    return data"
   ]
  },
  {
   "cell_type": "code",
   "execution_count": 33,
   "metadata": {},
   "outputs": [],
   "source": [
    "dataset = removeStopword(dataset,stop_words)"
   ]
  },
  {
   "cell_type": "markdown",
   "metadata": {},
   "source": [
    "1. Clean space"
   ]
  },
  {
   "cell_type": "code",
   "execution_count": 34,
   "metadata": {},
   "outputs": [],
   "source": [
    "def clean_space(text):\n",
    "    text_split = text.split(' ')\n",
    "    text_clean = [i for i in text_split if i != '']\n",
    "    text_fix = ' '.join(map(str,text_clean))\n",
    "    return text_fix\n",
    "\n",
    "def clean_space_data(data):\n",
    "    data['Tweet_Parsed_7'] = data['Tweet_Parsed_6']\n",
    "    data['Tweet_Parsed_7'] = data['Tweet_Parsed_7'].map(lambda com : clean_space(com))\n",
    "    return data"
   ]
  },
  {
   "cell_type": "code",
   "execution_count": 35,
   "metadata": {},
   "outputs": [],
   "source": [
    "dataset = clean_space_data(dataset)"
   ]
  },
  {
   "cell_type": "code",
   "execution_count": 36,
   "metadata": {},
   "outputs": [
    {
     "data": {
      "text/plain": [
       "'xs max, senderrr. tapi rugi sih kalo kamu beli xs max baru sekarang.. i mean langsung ke iphone 11 juga gapapa sebenernya secara speknya lebih bagus terussss harganya gak jauh beda.'"
      ]
     },
     "execution_count": 36,
     "metadata": {},
     "output_type": "execute_result"
    }
   ],
   "source": [
    "dataset['Tweet'].loc[4]"
   ]
  },
  {
   "cell_type": "code",
   "execution_count": 37,
   "metadata": {},
   "outputs": [
    {
     "data": {
      "text/plain": [
       "'xs max, senderrr. tapi rugi sih kalo kamu beli xs max baru sekarang.. i mean langsung ke iphone 11 juga gapapa sebenernya secara speknya lebih bagus terussss harganya gak jauh beda.'"
      ]
     },
     "execution_count": 37,
     "metadata": {},
     "output_type": "execute_result"
    }
   ],
   "source": [
    "dataset['Tweet_Parsed_1'].loc[4]"
   ]
  },
  {
   "cell_type": "code",
   "execution_count": 38,
   "metadata": {},
   "outputs": [
    {
     "data": {
      "text/plain": [
       "'xs max, senderrr. tapi rugi sih kalo kamu beli xs max baru sekarang.. i mean langsung ke iphone 11 juga gapapa sebenernya secara speknya lebih bagus terussss harganya gak jauh beda.'"
      ]
     },
     "execution_count": 38,
     "metadata": {},
     "output_type": "execute_result"
    }
   ],
   "source": [
    "dataset['Tweet_Parsed_2'].loc[4]"
   ]
  },
  {
   "cell_type": "code",
   "execution_count": 39,
   "metadata": {},
   "outputs": [
    {
     "data": {
      "text/plain": [
       "'xs max senderrr tapi rugi sih kalo kamu beli xs max baru sekarang i mean langsung ke iphone 11 juga gapapa sebenernya secara speknya lebih bagus terussss harganya gak jauh beda '"
      ]
     },
     "execution_count": 39,
     "metadata": {},
     "output_type": "execute_result"
    }
   ],
   "source": [
    "dataset['Tweet_Parsed_3'].loc[4]"
   ]
  },
  {
   "cell_type": "code",
   "execution_count": 40,
   "metadata": {},
   "outputs": [
    {
     "data": {
      "text/plain": [
       "'  senderrr tapi rugi  kalau kamu beli   baru sekarang i maksud langsung ke  juga gapapa sebenarnya secara speknya lebih bagus terus harganya tidak jauh beda '"
      ]
     },
     "execution_count": 40,
     "metadata": {},
     "output_type": "execute_result"
    }
   ],
   "source": [
    "dataset['Tweet_Parsed_4'].loc[4]"
   ]
  },
  {
   "cell_type": "code",
   "execution_count": 41,
   "metadata": {},
   "outputs": [
    {
     "data": {
      "text/plain": [
       "'  senderrr tapi rugi  kalau kamu beli   baru sekarang i maksud langsung ke  juga gapapa benar cara speknya lebih bagus terus harga tidak jauh beda '"
      ]
     },
     "execution_count": 41,
     "metadata": {},
     "output_type": "execute_result"
    }
   ],
   "source": [
    "dataset['Tweet_Parsed_5'].loc[4]"
   ]
  },
  {
   "cell_type": "code",
   "execution_count": 42,
   "metadata": {},
   "outputs": [
    {
     "data": {
      "text/plain": [
       "'   kamera  jelek   liat liat     foto  foto  cermin  kamera  '"
      ]
     },
     "execution_count": 42,
     "metadata": {},
     "output_type": "execute_result"
    }
   ],
   "source": [
    "dataset['Tweet_Parsed_6'].loc[2]"
   ]
  },
  {
   "cell_type": "code",
   "execution_count": 43,
   "metadata": {},
   "outputs": [
    {
     "data": {
      "text/plain": [
       "'kamera jelek liat liat foto foto cermin kamera'"
      ]
     },
     "execution_count": 43,
     "metadata": {},
     "output_type": "execute_result"
    }
   ],
   "source": [
    "dataset['Tweet_Parsed_7'].loc[2]"
   ]
  },
  {
   "cell_type": "code",
   "execution_count": 44,
   "metadata": {},
   "outputs": [],
   "source": [
    "def fixData(data, stemming=True, stopword=True):\n",
    "    if stopword == True:\n",
    "        data_fix = data.drop(['Tweet_Parsed_1', 'Tweet_Parsed_2','Tweet_Parsed_3','Tweet_Parsed_4','Tweet_Parsed_5','Tweet_Parsed_6'],axis=1)\n",
    "        data_fix = data_fix.rename(columns={'Tweet_Parsed_7': 'Tweet_Parsed'})\n",
    "    elif stemming == True:\n",
    "        data_fix = data.drop(['Tweet_Parsed_1', 'Tweet_Parsed_2','Tweet_Parsed_3','Tweet_Parsed_4','Tweet_Parsed_6','Tweet_Parsed_7'],axis=1)\n",
    "        data_fix = data_fix.rename(columns={'Tweet_Parsed_5': 'Tweet_Parsed'})\n",
    "    else:\n",
    "        data_fix = data.drop(['Tweet_Parsed_1', 'Tweet_Parsed_2','Tweet_Parsed_3','Tweet_Parsed_5','Tweet_Parsed_6','Tweet_Parsed_7'],axis=1)\n",
    "        data_fix = data_fix.rename(columns={'Tweet_Parsed_4': 'Tweet_Parsed'})\n",
    "    return data_fix"
   ]
  },
  {
   "cell_type": "code",
   "execution_count": 45,
   "metadata": {},
   "outputs": [],
   "source": [
    "dataset = fixData(dataset,stemming=False,stopword=True)"
   ]
  },
  {
   "cell_type": "code",
   "execution_count": 46,
   "metadata": {},
   "outputs": [],
   "source": [
    "def handleEmptyString(data):\n",
    "    data.loc[data['Tweet_Parsed'] == '', ['Tweet_Parsed']] = \" \"\n",
    "    return data"
   ]
  },
  {
   "cell_type": "code",
   "execution_count": 47,
   "metadata": {},
   "outputs": [],
   "source": [
    "dataset = handleEmptyString(dataset)"
   ]
  },
  {
   "cell_type": "code",
   "execution_count": 48,
   "metadata": {},
   "outputs": [],
   "source": [
    "dataset.to_csv(\"../data/dataset/datasetpraproses.csv\",index = False,sep=\";\")"
   ]
  },
  {
   "cell_type": "markdown",
   "metadata": {},
   "source": [
    "## Postag"
   ]
  },
  {
   "cell_type": "code",
   "execution_count": 49,
   "metadata": {},
   "outputs": [],
   "source": [
    "dataset = pd.read_csv(\"../data/dataset/datasetpraproses.csv\", sep=';')"
   ]
  },
  {
   "cell_type": "code",
   "execution_count": 50,
   "metadata": {},
   "outputs": [
    {
     "data": {
      "text/html": [
       "<div>\n",
       "<style scoped>\n",
       "    .dataframe tbody tr th:only-of-type {\n",
       "        vertical-align: middle;\n",
       "    }\n",
       "\n",
       "    .dataframe tbody tr th {\n",
       "        vertical-align: top;\n",
       "    }\n",
       "\n",
       "    .dataframe thead th {\n",
       "        text-align: right;\n",
       "    }\n",
       "</style>\n",
       "<table border=\"1\" class=\"dataframe\">\n",
       "  <thead>\n",
       "    <tr style=\"text-align: right;\">\n",
       "      <th></th>\n",
       "      <th>Tweet</th>\n",
       "      <th>label</th>\n",
       "      <th>Tweet_Parsed</th>\n",
       "    </tr>\n",
       "  </thead>\n",
       "  <tbody>\n",
       "    <tr>\n",
       "      <th>0</th>\n",
       "      <td>Min, normal ke kalau iPhone 11/11 Pro /Pro Max...</td>\n",
       "      <td>baterai negatif</td>\n",
       "      <td>admin normal pakai baterai kapasitas turun</td>\n",
       "    </tr>\n",
       "    <tr>\n",
       "      <th>1</th>\n",
       "      <td>Kmera iphone 11 mmeng beda</td>\n",
       "      <td>kamera positif</td>\n",
       "      <td>kamera beda</td>\n",
       "    </tr>\n",
       "    <tr>\n",
       "      <th>2</th>\n",
       "      <td>Iphone 11 pro max kamera depannya jelek ye? Gu...</td>\n",
       "      <td>kamera negatif</td>\n",
       "      <td>kamera jelek liat liat foto foto cermin kamera</td>\n",
       "    </tr>\n",
       "    <tr>\n",
       "      <th>3</th>\n",
       "      <td>Apple meluncurkan iPhone 11 dengan peningkatan...</td>\n",
       "      <td>baterai positif</td>\n",
       "      <td>luncur tingkat daya tahan baterai sayang laku ...</td>\n",
       "    </tr>\n",
       "    <tr>\n",
       "      <th>4</th>\n",
       "      <td>xs max, senderrr. tapi rugi sih kalo kamu beli...</td>\n",
       "      <td>spesifikasi  positif</td>\n",
       "      <td>senderrr rugi beli maksud langsung gapapa spek...</td>\n",
       "    </tr>\n",
       "    <tr>\n",
       "      <th>...</th>\n",
       "      <td>...</td>\n",
       "      <td>...</td>\n",
       "      <td>...</td>\n",
       "    </tr>\n",
       "    <tr>\n",
       "      <th>743</th>\n",
       "      <td>ga keren banget masa charger bawaannya belum f...</td>\n",
       "      <td>baterai negatif</td>\n",
       "      <td>keren charger bawa cepat charger</td>\n",
       "    </tr>\n",
       "    <tr>\n",
       "      <th>744</th>\n",
       "      <td>yaelah belum fast charging, lama nih kalo ngec...</td>\n",
       "      <td>baterai negatif</td>\n",
       "      <td>yaelah cepat charger charge charger bawa kudu ...</td>\n",
       "    </tr>\n",
       "    <tr>\n",
       "      <th>745</th>\n",
       "      <td>butuh waku lama buat ngecharge kalo pake charg...</td>\n",
       "      <td>baterai negatif</td>\n",
       "      <td>butuh waku charge charger bawa daya</td>\n",
       "    </tr>\n",
       "    <tr>\n",
       "      <th>746</th>\n",
       "      <td>udah mahal begini masa chargernya blm fast cha...</td>\n",
       "      <td>baterai negatif</td>\n",
       "      <td>udah mahal chargernya cepat charger kecewa</td>\n",
       "    </tr>\n",
       "    <tr>\n",
       "      <th>747</th>\n",
       "      <td>kapasitas baterainya masih kalah dibanding pro...</td>\n",
       "      <td>baterai negatif</td>\n",
       "      <td>kapasitas baterai kalah banding produk murah</td>\n",
       "    </tr>\n",
       "  </tbody>\n",
       "</table>\n",
       "<p>748 rows × 3 columns</p>\n",
       "</div>"
      ],
      "text/plain": [
       "                                                 Tweet                 label  \\\n",
       "0    Min, normal ke kalau iPhone 11/11 Pro /Pro Max...       baterai negatif   \n",
       "1                           Kmera iphone 11 mmeng beda        kamera positif   \n",
       "2    Iphone 11 pro max kamera depannya jelek ye? Gu...        kamera negatif   \n",
       "3    Apple meluncurkan iPhone 11 dengan peningkatan...       baterai positif   \n",
       "4    xs max, senderrr. tapi rugi sih kalo kamu beli...  spesifikasi  positif   \n",
       "..                                                 ...                   ...   \n",
       "743  ga keren banget masa charger bawaannya belum f...       baterai negatif   \n",
       "744  yaelah belum fast charging, lama nih kalo ngec...       baterai negatif   \n",
       "745  butuh waku lama buat ngecharge kalo pake charg...       baterai negatif   \n",
       "746  udah mahal begini masa chargernya blm fast cha...       baterai negatif   \n",
       "747  kapasitas baterainya masih kalah dibanding pro...       baterai negatif   \n",
       "\n",
       "                                          Tweet_Parsed  \n",
       "0           admin normal pakai baterai kapasitas turun  \n",
       "1                                          kamera beda  \n",
       "2       kamera jelek liat liat foto foto cermin kamera  \n",
       "3    luncur tingkat daya tahan baterai sayang laku ...  \n",
       "4    senderrr rugi beli maksud langsung gapapa spek...  \n",
       "..                                                 ...  \n",
       "743                   keren charger bawa cepat charger  \n",
       "744  yaelah cepat charger charge charger bawa kudu ...  \n",
       "745                butuh waku charge charger bawa daya  \n",
       "746         udah mahal chargernya cepat charger kecewa  \n",
       "747       kapasitas baterai kalah banding produk murah  \n",
       "\n",
       "[748 rows x 3 columns]"
      ]
     },
     "execution_count": 50,
     "metadata": {},
     "output_type": "execute_result"
    }
   ],
   "source": [
    "dataset"
   ]
  },
  {
   "cell_type": "code",
   "execution_count": 51,
   "metadata": {},
   "outputs": [],
   "source": [
    "def postag(data):\n",
    "    dt = []\n",
    "    for line in data:\n",
    "        tokens = word_tokenize(str(line)) #Tokenisasi (Membagi kata per kata)\n",
    "        postag = nltk.pos_tag(tokens)\n",
    "        dt.append(postag) #memasukan kata yang telah dipostag kedalam list\n",
    "        print(postag)\n",
    "    return dt"
   ]
  },
  {
   "cell_type": "code",
   "execution_count": 52,
   "metadata": {},
   "outputs": [
    {
     "name": "stdout",
     "output_type": "stream",
     "text": [
      "[('admin', 'NN'), ('normal', 'JJ'), ('pakai', 'NN'), ('baterai', 'NN'), ('kapasitas', 'NNS'), ('turun', 'VBP')]\n",
      "[('kamera', 'NN'), ('beda', 'NN')]\n",
      "[('kamera', 'NN'), ('jelek', 'NN'), ('liat', 'NN'), ('liat', 'NN'), ('foto', 'NN'), ('foto', 'NN'), ('cermin', 'NN'), ('kamera', 'NN')]\n",
      "[('luncur', 'JJ'), ('tingkat', 'NN'), ('daya', 'NN'), ('tahan', 'NN'), ('baterai', 'NN'), ('sayang', 'NN'), ('laku', 'NN'), ('perangkat', 'NN'), ('lunak', 'NN')]\n",
      "[('senderrr', 'NN'), ('rugi', 'NN'), ('beli', 'NN'), ('maksud', 'NN'), ('langsung', 'NN'), ('gapapa', 'NN'), ('speknya', 'NN'), ('bagus', 'NN'), ('harga', 'NN'), ('beda', 'NN')]\n",
      "[('bingung', 'NN'), ('pilih', 'NN'), ('review', 'NN'), ('spesifikasi', 'NN'), ('minat', 'NN'), ('bentuk', 'NN'), ('kamera', 'NN'), ('pilih', 'NN'), ('pasang', 'NN'), ('pakai', 'NN'), ('konon', 'NN'), ('sesuai', 'NN')]\n",
      "[('hasil', 'NN'), ('kamera', 'NN'), ('xiaomi', 'NNP'), ('note', 'NN'), ('adu', 'NN')]\n",
      "[('tajam', 'NN'), ('layar', 'NN'), ('ultra', 'JJ'), ('wide', 'JJ'), ('angle', 'NN'), ('bagus', 'NN'), ('chipset', 'NN')]\n",
      "[('cantik', 'NN'), ('ungu', 'JJ'), ('kaya', 'NN')]\n",
      "[('sahabat', 'NN'), ('indah', 'NN'), ('abadi', 'NN'), ('kamera', 'NN')]\n",
      "[('tarik', 'NN')]\n",
      "[('murah', 'NN'), ('layar', 'NN'), ('harga', 'NN'), ('wajar', 'NN'), ('banding', 'VBG'), ('simpul', 'NN'), ('mahal', 'NN')]\n",
      "[('warna', 'NN'), ('ungu', 'JJ'), ('bagus', 'NN'), ('beli', 'NN')]\n",
      "[('kemarin', 'NN'), ('pas', 'NN'), ('rilis', 'NN'), ('mata', 'NN'), ('langsung', 'NN'), ('tuju', 'NN'), ('warna', 'NN'), ('warna', 'NN'), ('ungu', 'JJ'), ('tarik', 'NN'), ('berat', 'NN'), ('produk', 'NN'), ('warna', 'NN'), ('ungu', 'JJ'), ('alhamdulillah', 'NN'), ('wujud', 'NN'), ('beli', 'NN')]\n",
      "[('bionic', 'JJ'), ('chipset', 'NN'), ('prosessor', 'NN'), ('halus', 'NN'), ('lancar', 'NN'), ('isi', 'NN'), ('kamera', 'NN'), ('cantik', 'NN'), ('utama', 'JJ'), ('rakaman', 'NN'), ('video', 'NN'), ('stabilization', 'NN'), ('imbang', 'NN'), ('halus', 'NN'), ('baterai', 'NN'), ('tahan', 'NN')]\n",
      "[]\n",
      "[('suka', 'NN'), ('bodoh', 'NN'), ('baterai', 'NN'), ('kapasitas', 'NNS'), ('cepat', 'VBP'), ('turun', 'JJ'), ('marah', 'NN')]\n",
      "[('ken', 'VBN'), ('bangeettt', 'NN'), ('ganti', 'NN'), ('warna', 'VBD'), ('mint', 'NN'), ('hijau', 'NN'), ('kaya', 'NN'), ('bagus', 'NN'), ('udah', 'JJ'), ('pergi', 'NN'), ('ibox', 'NN'), ('eraphone', 'NN'), ('udah', 'JJ'), ('nanya', 'JJ'), ('beli', 'NN'), ('sadar', 'NN'), ('prioritasin', 'NN')]\n",
      "[('suka', 'NN'), ('tunggu', 'NN'), ('harap', 'NN'), ('rezeki', 'NN')]\n",
      "[('rekam', 'NN'), ('video', 'NN'), ('kepala', 'NN'), ('penuh', 'NN'), ('hd', 'NN')]\n",
      "[('banding', 'VBG'), ('parah', 'NN'), ('sayang', 'NN'), ('beli', 'JJ'), ('xr', 'NNP'), ('kamera', 'NN'), ('cuman', 'NN'), ('hasil', 'NN'), ('bagus', 'NN'), ('muluk', 'NN'), ('milih', 'NN'), ('tuh', 'NN'), ('pilih', 'NN'), ('susah', 'NN')]\n",
      "[('cepat', 'JJ'), ('charge', 'NN'), ('cepat', 'NN'), ('charger', 'NN'), ('cepat', 'NN'), ('charger', 'NN'), ('keno', 'VB'), ('beli', 'JJ'), ('usb', 'JJ'), ('hok', 'NN'), ('dukung', 'NN'), ('cepat', 'NN'), ('charger', 'NN'), ('charge', 'NN'), ('dok', 'NN'), ('molek', 'NN'), ('kei', 'NN')]\n",
      "[('spek', 'NN'), ('bagus', 'NN')]\n",
      "[('lucu', 'NN'), ('warna', 'WRB'), ('ungu', 'JJ'), ('bagus', 'NN'), ('salah', 'NN'), ('fokus', 'NN'), ('judul', 'NN')]\n",
      "[('ungu', 'JJ'), ('bagus', 'NN')]\n",
      "[('zan', 'NN'), ('gapunya', 'NN'), ('coba', 'NN'), ('aplikasi', 'NN'), ('boros', 'NN'), ('beli', 'JJ'), ('mahal', 'NN'), ('bagus', 'NN'), ('alternatif', 'NN'), ('gratis', 'NN'), ('sangka', 'NN'), ('iya', 'NN'), ('iya', 'NN'), ('kantor', 'NN'), ('tipe', 'NN'), ('neng', 'NN'), ('makas', 'NN'), ('bos', 'NN'), ('dunia', 'NN')]\n",
      "[('suka', 'NN'), ('baterai', 'NN'), ('kapasitas', 'NNS'), ('baterai', 'VBP'), ('mhw', 'JJ'), ('tampil', 'NN'), ('smartfone', 'NN'), ('android', 'NN'), ('berkapasiti', 'NN'), ('mhw', 'NN'), ('suka', 'NN'), ('pakai', 'NN'), ('android', 'JJ'), ('baterai', 'NN'), ('baterai', 'NN'), ('turun', 'NN'), ('dadak', 'NN')]\n",
      "[]\n",
      "[('samsung', 'JJ'), ('note', 'NN'), ('alih', 'NN'), ('suka', 'NN'), ('kamera', 'NN'), ('bagus', 'NN'), ('ribet', 'NN'), ('simpan', 'NN'), ('data', 'NNS'), ('suka', 'NN'), ('android', 'VBP'), ('bagus', 'NN'), ('bersih', 'NN')]\n",
      "[('kapasitas', 'NNS'), ('memori', 'VBP'), ('gb', 'JJ'), ('jangka', 'NN'), ('sederhana', 'NNS'), ('santai', 'NN'), ('might', 'MD'), ('aneh', 'VB'), ('android', 'JJ'), ('edisi', 'NN'), ('warna', 'NN'), ('casing', 'VBG'), ('bagus', 'NN')]\n",
      "[('suara', 'JJ'), ('mic', 'JJ'), ('bersih', 'NN'), ('ken', 'VBN'), ('beli', 'JJ'), ('nga', 'JJ'), ('duit', 'NN'), ('hahaha', 'NN')]\n",
      "[('ungu', 'JJ'), ('cinta', 'NN'), ('ungu', 'JJ'), ('bagus', 'NN'), ('cantik', 'NN'), ('indah', 'NN')]\n",
      "[('pas', 'NN'), ('tangan', 'NN'), ('kamera', 'NN'), ('tuh', 'NN'), ('bagus', 'NN'), ('chipset', 'NN'), ('oke', 'VBD')]\n",
      "[('irit', 'NN')]\n",
      "[('udah', 'JJ'), ('ios', 'NNS'), ('jelek', 'VBP'), ('ganti', 'JJ'), ('takut', 'NN'), ('sengaja', 'NN'), ('tukar', 'NN'), ('adek', 'NN')]\n",
      "[('ukur', 'JJ'), ('kamera', 'NN'), ('seri', 'JJ'), ('pro', 'JJ'), ('kamera', 'FW'), ('liat', 'NN'), ('power', 'NN'), ('adapter', 'NN'), ('earpod', 'NN'), ('dapet', 'NN'), ('kabel', 'NN'), ('plus', 'CC'), ('chip', 'NN'), ('suka', 'JJ'), ('times', 'NNS'), ('currrent', 'JJ')]\n",
      "[('baterai', 'NN'), ('tahan', 'NN')]\n",
      "[('juta', 'NN'), ('android', 'NN'), ('harga', 'NN'), ('kemaren', 'NNS'), ('foto', 'VBP'), ('pilih', 'JJ'), ('samsung', 'NN'), ('ultimate', 'JJ'), ('bilang', 'NN'), ('kamera', 'NN'), ('cantik', 'NN'), ('bicara', 'NN'), ('samsung', 'NN'), ('kamera', 'NN'), ('bagus', 'NN'), ('sedih', 'NN')]\n",
      "[('dosen', 'NN'), ('ganti', 'NN'), ('samsung', 'NN'), ('arti', 'VBZ'), ('bosan', 'JJ')]\n",
      "[('coba', 'NN'), ('pakai', 'NN'), ('serius', 'NN'), ('kamera', 'NN')]\n",
      "[('mati', 'NNS'), ('jam', 'NN'), ('paksa', 'NN'), ('letak', 'NN'), ('beras', 'NNS'), ('mati', 'VBP'), ('panas', 'JJ'), ('jam', 'NN'), ('letak', 'NN'), ('beras', 'NNS'), ('nyala', 'RB'), ('baterai', 'VBP'), ('habis', 'JJ'), ('mati', 'NN'), ('baterai', 'CC'), ('full', 'JJ'), ('normal', 'JJ')]\n",
      "[('iya', 'NN'), ('bagus', 'NN')]\n",
      "[('heran', 'NN'), ('memori', 'NNS'), ('cepat', 'VBP'), ('abis', 'JJ'), ('suka', 'NN'), ('video', 'NN'), ('masak', 'NN'), ('kadang', 'VBD'), ('masak', 'JJ'), ('memori', 'FW'), ('abis', 'NN'), ('bingung', 'NN'), ('panik', 'FW'), ('makan', 'JJ'), ('gagal', 'JJ'), ('liat', 'NN'), ('kualitas', 'NNS'), ('video', 'VBP'), ('bener', 'NN'), ('bagus', 'NN'), ('alus', 'NN'), ('canggih', 'NN')]\n",
      "[('android', 'JJ'), ('baterai', 'NN'), ('tahan', 'NN'), ('boros', 'NNS'), ('kecuali', 'VBP')]\n",
      "[('iphonefess', 'NN'), ('halo', 'NN'), ('sore', 'NN'), ('ka', 'NN'), ('ku', 'NN'), ('kemarin', 'NN'), ('habis', 'NN'), ('baterai', 'NN'), ('charger', 'NN'), ('eh', 'VBP'), ('masuk', 'NN'), ('lambang', 'NN'), ('charger', 'NN'), ('nyala', 'JJ'), ('n', 'JJ'), ('normal', 'JJ'), ('ngga', 'JJ'), ('panas', 'NNS'), ('ka', 'VBP'), ('bantu', 'NN'), ('terimakasih', 'NN')]\n",
      "[('chipset', 'NN'), ('kenceng', 'NN'), ('layar', 'NN'), ('baterai', 'NN'), ('kuat', 'NN'), ('resolusi', 'NN'), ('layar', 'NN'), ('rendah', 'NN')]\n",
      "[('bagus', 'NN'), ('kamera', 'NN'), ('bagus', 'NN'), ('foto', 'NN'), ('bagus', 'NN'), ('foto', 'NN'), ('jele', 'NN')]\n",
      "[('kamera', 'NN'), ('bagus', 'NN'), ('bagus', 'NN')]\n",
      "[('go', 'VB'), ('samsung', 'JJ'), ('android', 'NN'), ('paham', 'NN'), ('la', 'FW'), ('developer', 'FW'), ('aplikasi', 'FW'), ('anak', 'FW'), ('tiri', 'NN'), ('android', 'NN'), ('anak', 'NN'), ('emas', 'VBP'), ('flagship', 'NN'), ('application', 'NN'), ('optimization', 'NN'), ('hardware', 'NN'), ('optimum', 'JJ'), ('story', 'NN'), ('ig', 'NN'), ('micro', 'NN'), ('lag', 'NN')]\n",
      "[('kakak', 'NN'), ('biar', 'NN'), ('video', 'NN'), ('cetar', 'NN')]\n",
      "[('bilah', 'NN'), ('cepat', 'NN'), ('charger', 'NN'), ('watt', 'NN'), ('charger', 'NN'), ('masuk', 'NN'), ('lambat', 'NN')]\n",
      "[('media', 'NNS'), ('sosial', 'JJ'), ('foto', 'NN'), ('urusin', 'JJ'), ('online', 'NN'), ('shop', 'NN'), ('aman', 'NN'), ('kualitas', 'VBD'), ('kamera', 'NN'), ('bagus', 'NN'), ('cari', 'NN'), ('nilai', 'JJ'), ('yaa', 'NN'), ('jt', 'NN'), ('udah', 'JJ'), ('dapet', 'NN')]\n",
      "[('yaallah', 'NN'), ('goda', 'NN'), ('warna', 'NN'), ('biru', 'NN'), ('eh', 'NN'), ('warna', 'NN'), ('sebenere', 'RB'), ('pokok', 'JJ'), ('biru', 'NN'), ('suka', 'NN')]\n",
      "[('bagus', 'NN'), ('kamera', 'NN')]\n",
      "[('beli', 'JJ'), ('kemaren', 'NNS'), ('niat', 'JJ'), ('cuman', 'JJ'), ('beli', 'NN'), ('mouse', 'NN'), ('laptop', 'JJ'), ('iseng', 'NN'), ('bang', 'NN'), ('warna', 'NN'), ('nyata', 'NNS'), ('kasih', 'VBP'), ('sadar', 'NN'), ('kmudian', 'JJ'), ('salesnya', 'NN'), ('ku', 'NN'), ('yasudah', 'NN'), ('ambil', 'NN'), ('silver', 'NN'), ('gb', 'NN'), ('riyalife', 'NN'), ('tamat', 'NN')]\n",
      "[('warna', 'NN'), ('ungu', 'JJ'), ('bagus', 'NN'), ('move', 'NN'), ('hidup', 'NN')]\n",
      "[('baterai', 'NN'), ('mah', 'NN'), ('masuk', 'NN'), ('kapasitas', 'NNS'), ('baterai', 'VBP'), ('capai', 'JJ'), ('mah', 'NN'), ('tahan', 'NN'), ('baterai', 'NN'), ('seri', 'NN'), ('sangkal', 'NN'), ('saing', 'VBG'), ('huawei', 'JJ'), ('mate', 'NN'), ('kapasitas', 'NNS'), ('baterai', 'VBP'), ('mah', 'NN')]\n",
      "[('gue', 'NN'), ('main', 'JJ'), ('rp', 'NN')]\n",
      "[('chargernya', 'NN'), ('watt', 'NN')]\n"
     ]
    },
    {
     "name": "stdout",
     "output_type": "stream",
     "text": [
      "[('p', 'NN'), ('kejar', 'NN'), ('raih', 'NN'), ('kualitas', 'NNS'), ('foto', 'VBP'), ('cetak', 'JJ'), ('jelek', 'NN'), ('jalan', 'NN'), ('malas', 'VBP'), ('bawa', 'NN'), ('kamera', 'NN'), ('beneran', 'NN'), ('kamera', 'NN'), ('hpku', 'NN'), ('andal', 'NN')]\n",
      "[('ios', 'NNS'), ('keluh', 'VBP'), ('baterai', 'JJ'), ('turun', 'JJ'), ('latestnews', 'NNS'), ('os', 'VBP'), ('ios', 'NNS')]\n",
      "[('charge', 'NN'), ('lambat', 'NN'), ('ampun', 'NN')]\n",
      "[('luncur', 'JJ'), ('tingkat', 'NN'), ('daya', 'NN'), ('tahan', 'NN'), ('baterai', 'NN'), ('keluh', 'NN'), ('ios', 'NNS'), ('kuras', 'VBP'), ('baterai', 'JJ'), ('ponsel', 'NN')]\n",
      "[('warna', 'JJ'), ('mint', 'NN'), ('mohon', 'NN'), ('ungu', 'NN')]\n",
      "[('baterai', 'NN'), ('bener', 'NN'), ('irit', 'NN'), ('perfoma', 'NN')]\n",
      "[('ken', 'VBN'), ('warna', 'NN'), ('kuning', 'VBG')]\n",
      "[('alas', 'NNS'), ('haru', 'VBP'), ('beli', 'JJ'), ('karna', 'FW'), ('gaya', 'NN'), ('gaya', 'NN'), ('tunjang', 'NN'), ('kerja', 'VBD'), ('fitur', 'JJ'), ('potret', 'JJ'), ('suka', 'NN'), ('gambar', 'NN'), ('edit', 'NN')]\n",
      "[('mahal', 'NN'), ('weh', 'NN')]\n",
      "[('kamera', 'NN'), ('foto', 'NN'), ('wide', 'JJ'), ('samsung', 'NN'), ('biar', 'NN'), ('foto', 'NN'), ('bareng', 'NN'), ('gampang', 'NN'), ('wkwkwkwkwk', 'NN')]\n",
      "[('kabar', 'NN'), ('bekal', 'NN'), ('baterai', 'NN'), ('kapasitas', 'NNS')]\n",
      "[('cinematic', 'JJ'), ('video', 'NN'), ('alam', 'NN'), ('unik', 'JJ'), ('pas', 'NN'), ('video', 'NN'), ('baterai', 'NN'), ('tinggal', 'JJ'), ('lumayan', 'JJ'), ('nandingin', 'NN'), ('miroles', 'NNS'), ('alat', 'VBP'), ('bantu', 'JJ'), ('stabilizer', 'NN'), ('video', 'NN'), ('makemac', 'NN'), ('shootoniphone', 'NN')]\n",
      "[('kamera', 'NN'), ('sampah', 'NN'), ('ok', 'JJ'), ('bab', 'NN'), ('video', 'NN'), ('power', 'NN'), ('bab', 'NN'), ('gambar', 'NN'), ('huawei', 'NN'), ('power', 'NN')]\n",
      "[('multitasking', 'VBG'), ('halus', 'JJ'), ('layar', 'JJ'), ('uji', 'JJ'), ('halus', 'NN')]\n",
      "[('pakai', 'NN'), ('baterai', 'NN'), ('udah', 'JJ'), ('ngedrop', 'NN'), ('cuman', 'NN'), ('tahan', 'NN'), ('menit', 'NN'), ('liat', 'JJ'), ('harga', 'NN'), ('udah', 'JJ'), ('turun', 'NN'), ('beli', 'JJ'), ('power', 'NN'), ('bank', 'NN')]\n",
      "[('pegang', 'NN'), ('park', 'NN'), ('haejin', 'NN'), ('kaya', 'NN')]\n",
      "[('biar', 'NN'), ('foto', 'NN'), ('bagus', 'NN'), ('lxc', 'NN')]\n",
      "[('beda', 'NN'), ('pasar', 'NN'), ('man', 'NN'), ('fanboy', 'VBZ'), ('ngincer', 'JJ'), ('masuk', 'NNS'), ('touch', 'JJ'), ('id', 'NN'), ('less', 'RBR'), ('mikirin', 'JJ'), ('kualitas', 'NNS'), ('bahan', 'NN')]\n",
      "[('ambil', 'NN'), ('tukar', 'NN'), ('huawei', 'NN'), ('p', 'NN'), ('baterai', 'NN'), ('kecewa', 'NN'), ('tampil', 'NN')]\n",
      "[('ken', 'VBN'), ('bagus', 'JJ'), ('gambar', 'NN')]\n",
      "[('gantung', 'NN'), ('butuh', 'NN'), ('pilih', 'NN'), ('ajah', 'NN')]\n",
      "[('hpku', 'NN'), ('hilang', 'NN'), ('tajam', 'NN'), ('kamera', 'NN'), ('tanda', 'NN'), ('upgrade', 'JJ'), ('abis', 'NN'), ('beda', 'NN'), ('bandingin', 'NN'), ('ponakan', 'NN'), ('bagus', 'NN'), ('gambar', 'NN')]\n",
      "[('ungu', 'JJ'), ('cute', 'NN'), ('astaga', 'NN')]\n",
      "[('bagus', 'NN'), ('kamera', 'NN')]\n",
      "[('warna', 'NN'), ('hijau', 'NN')]\n",
      "[('suka', 'NN'), ('ganti', 'NN'), ('ganti', 'NN'), ('baterai', 'NN'), ('awet', 'NN')]\n",
      "[('megapro', 'JJ'), ('kamera', 'NN'), ('unggul', 'NN'), ('asa', 'NN'), ('wa', 'NN'), ('migrasi', 'NN'), ('maju', 'NN')]\n",
      "[('kamera', 'NN'), ('jernih', 'NN'), ('mata', 'NN')]\n",
      "[('assalam', 'JJ'), ('admin', 'NN'), ('pakai', 'NN'), ('pakai', 'NN'), ('ios', 'NNS'), ('line', 'NN'), ('hilang', 'NN'), ('muncul', 'NN'), ('service', 'NN'), ('sec', 'VBD'), ('ok', 'JJ'), ('coba', 'NN'), ('solusi', 'NN'), ('dukung', 'NN'), ('admin', 'NN'), ('xaviernaxa', 'NN')]\n",
      "[('ampe', 'JJ'), ('ntar', 'NN'), ('android', 'NN'), ('beda', 'NN'), ('kualitas', 'JJ'), ('voice', 'NN'), ('record', 'NN'), ('bagus', 'NN'), ('hasil', 'NN'), ('record', 'NN')]\n",
      "[('multitasking', 'VBG'), ('halus', 'JJ'), ('layar', 'JJ'), ('uji', 'JJ'), ('halus', 'NN')]\n",
      "[('iya', 'NN'), ('ungu', 'JJ'), ('hijau', 'NN'), ('favorit', 'NN'), ('bagus', 'NN'), ('warna', 'NN'), ('kak', 'NN')]\n",
      "[('banding', 'VBG'), ('nonton', 'NN'), ('youtube', 'NN'), ('puas', 'NN'), ('serasa', 'VBP'), ('nonton', 'NN'), ('tipi', 'NN'), ('kualitas', 'NNS'), ('gambar', 'VBP'), ('speakernya', 'NN'), ('bagus', 'NN')]\n",
      "[('kamera', 'NN'), ('lawan', 'NN')]\n",
      "[('slowmo', 'NN'), ('kamera', 'NN')]\n",
      "[('cacat', 'NN')]\n",
      "[('bicara', 'NN'), ('kamera', 'NN'), ('coba', 'NN'), ('cari', 'NN'), ('youtube', 'NN'), ('bahas', 'NN')]\n",
      "[('udah', 'JJ'), ('bagus', 'NN'), ('baterai', 'NN'), ('xr', 'NNP'), ('awet', 'NN'), ('baterai', 'NN')]\n",
      "[('spesifikasi', 'NN'), ('banding', 'VBG'), ('gantung', 'NN'), ('uang', 'JJ'), ('ngurusin', 'RB'), ('kamera', 'NN'), ('low', 'JJ'), ('light', 'NN')]\n",
      "[('ken', 'VBN'), ('biar', 'JJ'), ('bagus', 'NN'), ('foto', 'NN'), ('produk', 'NN'), ('reaquestgashopee', 'NN')]\n",
      "[('kamera', 'NN'), ('keren', 'NN')]\n",
      "[('warna', 'NN'), ('biru', 'NN'), ('keliru', 'NN'), ('cantik', 'NN'), ('nak', 'JJ'), ('harga', 'NN'), ('murah', 'NN'), ('n', 'JJ'), ('original', 'JJ'), ('beli', 'NN'), ('waynegadgett', 'NN'), ('seller', 'NN'), ('amah', 'NN'), ('n', 'RB'), ('berkomited', 'VBD'), ('hampa', 'JJ'), ('bersih', 'NN'), ('sebarang', 'NN'), ('virus', 'NN')]\n",
      "[('midrange', 'NN')]\n",
      "[('fitur', 'NN'), ('nfc', 'CC'), ('ecek', 'JJ'), ('saldo', 'NN'), ('laku', 'NN'), ('top', 'JJ'), ('e', 'NN'), ('money', 'NN'), ('bank', 'NN'), ('mandiri', 'NN'), ('nfc', 'NN')]\n",
      "[('rak', 'NN'), ('pilih', 'NN'), ('perkara', 'NN'), ('utama', 'JJ'), ('difahami', 'NN'), ('model', 'NN'), ('kelas', 'NNS'), ('mercu', 'VBP'), ('mercu', 'JJ'), ('segi', 'NN'), ('chipset', 'NN'), ('bionic', 'NN'), ('lancar', 'NN')]\n",
      "[('ken', 'VBN'), ('ganti', 'NN'), ('sayang', 'NN'), ('duit', 'NN'), ('gin', 'NN'), ('musti', 'NN'), ('gimana', 'NN'), ('biar', 'NN'), ('dapet', 'NN'), ('pasu', 'NN'), ('ide', 'NN'), ('bisnis', 'NN')]\n",
      "[('prefer', 'VB'), ('future', 'JJ'), ('proof', 'NN'), ('baterai', 'NN'), ('tahan', 'NN'), ('kamera', 'NN'), ('chipset', 'NN'), ('pasar', 'NN'), ('je', 'NN'), ('perrtama', 'NN'), ('model', 'NN'), ('fullscreen', 'JJ'), ('xr', 'NNP'), ('ok', 'NN'), ('layar', 'NN'), ('cantik', 'NN'), ('kamera', 'NN')]\n",
      "[('bagus', 'NN'), ('ungu', 'JJ'), ('tosca', 'NN'), ('mohon', 'NN'), ('bantu', 'NN')]\n",
      "[('cantik', 'NN'), ('warna', 'NN')]\n",
      "[('keren', 'NNS'), ('warna', 'VBP'), ('warna', 'JJ'), ('kasual', 'JJ')]\n",
      "[('buka', 'NN'), ('twitter', 'NN'), ('safari', 'NN'), ('gin', 'NN')]\n",
      "[('bagus', 'NN'), ('ato', 'NN'), ('samsung', 'NN'), ('mirrorless', 'NN'), ('easy', 'JJ'), ('use', 'NN'), ('ahaha', 'NN')]\n",
      "[('situasi', 'NN'), ('spesifikasi', 'NN'), ('masuk', 'NN'), ('layar', 'NN'), ('oled', 'VBD'), ('sokong', 'JJ'), ('telephoto', 'NN'), ('banding', 'VBG'), ('sokong', 'JJ'), ('kamera', 'NN'), ('lebar', 'NN'), ('ultra', 'JJ'), ('lebar', 'NN')]\n",
      "[('cadang', 'NN'), ('faktor', 'NN'), ('hadir', 'NN'), ('chipset', 'NN'), ('pemprosesan', 'JJ'), ('milik', 'NN'), ('minat', 'NN'), ('kamera', 'NN'), ('ultra', 'JJ'), ('lebar', 'NN')]\n",
      "[('chip', 'NN'), ('layar', 'VBZ'), ('layar', 'RB'), ('oled', 'VBN'), ('led', 'VBN'), ('layar', 'NN')]\n",
      "[('cute', 'NN'), ('pantes', 'VBZ'), ('cewek', 'JJ'), ('cewek', 'NN'), ('beli', 'NN')]\n",
      "[('saran', 'NN'), ('ajaa', 'NN'), ('karna', 'FW'), ('iphon', 'NN'), ('xr', 'NNP'), ('kecuali', 'NNP'), ('baterai', 'NN'), ('mah', 'NN'), ('ketimbah', 'NN'), ('kamera', 'NN'), ('menang', 'NN'), ('kamera', 'NN'), ('kamera', 'NN'), ('mp', 'NN')]\n",
      "[('rupa', 'NN'), ('kapasitas', 'NNS'), ('mah', 'VBP'), ('mah', 'JJ'), ('mah', 'NN'), ('mah', 'NN'), ('dasar', 'NN'), ('banding', 'VBG'), ('mah', 'NNS'), ('banding', 'VBG')]\n",
      "[('lot', 'NN')]\n",
      "[('hopefully', 'RB'), ('harga', 'JJ'), ('charger', 'NN'), ('also', 'RB'), ('peluang', 'VBD'), ('turun', 'JJ'), ('harga', 'NN'), ('jimat', 'NN'), ('possible', 'JJ'), ('harga', 'NN'), ('murah', 'NN'), ('xr', 'NN')]\n",
      "[('pas', 'NN'), ('tangan', 'NN'), ('kamera', 'NN'), ('tuh', 'NN'), ('bagus', 'NN'), ('chipset', 'NN'), ('oke', 'VBD')]\n",
      "[('memori', 'NNS'), ('udah', 'VBP')]\n",
      "[('harga', 'NN'), ('mahal', 'RBS'), ('dollar', 'NN'), ('series', 'NN'), ('harga', 'NN'), ('lho', 'JJ'), ('jgn', 'NN'), ('bicara', 'NN'), ('mahal', 'NN'), ('taun', 'NN'), ('kmrn', 'NN'), ('seginisegini', 'NN'), ('gue', 'NN'), ('februari', 'NN'), ('beli', 'NN'), ('jt', 'NN'), ('gb', 'NN'), ('ibox', 'NN')]\n",
      "[('pilih', 'NN'), ('oled', 'VBD'), ('bionic', 'JJ'), ('ultra', 'JJ'), ('wide', 'JJ'), ('lens', 'NNS'), ('night', 'NN'), ('mode', 'NN'), ('deep', 'JJ'), ('fusion', 'NN'), ('baterai', 'NN'), ('tahan', 'NN')]\n",
      "[('jual', 'JJ'), ('belanja', 'NN')]\n",
      "[('tajam', 'NN'), ('layar', 'NN'), ('ultra', 'JJ'), ('wide', 'JJ'), ('angle', 'NN'), ('bagus', 'NN'), ('chipset', 'NN')]\n",
      "[('sesal', 'NN'), ('beli', 'NN')]\n",
      "[('ungu', 'JJ'), ('bagus', 'NN'), ('hm', 'NN')]\n",
      "[('aneh', 'NN'), ('kamera', 'NN'), ('kaya', 'NN'), ('android', 'JJ'), ('ih', 'NN'), ('halus', 'NN')]\n",
      "[('kamera', 'NN'), ('aneh', 'NN')]\n",
      "[('dasar', 'NN'), ('lapor', 'NN'), ('simpul', 'NN'), ('bahawa', 'NN'), ('turun', 'NN'), ('kapasitas', 'NNS'), ('mah', 'VBP'), ('percaya', 'JJ'), ('chipset', 'NN'), ('bionic', 'JJ'), ('jangka', 'NN'), ('tahan', 'NN')]\n",
      "[('xr', 'JJ'), ('hasil', 'NN'), ('udah', 'JJ'), ('bagus', 'NN'), ('ambil', 'NN'), ('gb', 'NN'), ('android', 'JJ'), ('tau', 'NN'), ('kadang', 'NN'), ('suka', 'NN'), ('efek', 'NN'), ('foto', 'NN'), ('xr', 'NNP'), ('efek', 'VBZ'), ('bokeh', 'NN'), ('disetting', 'VBG'), ('diagramanya', 'JJ'), ('seblur', 'NN'), ('foto', 'NN'), ('laku', 'NN'), ('kamera', 'NN')]\n",
      "[('suka', 'NN'), ('ungu', 'JJ'), ('pastel', 'NN')]\n",
      "[('foto', 'RB'), ('low', 'JJ'), ('kualitas', 'NNS')]\n",
      "[('kamera', 'NN'), ('bagus', 'NN'), ('dripda', 'NN'), ('langsung', 'NN')]\n",
      "[('murah', 'NN'), ('jt', 'NN'), ('jt', 'NN'), ('rek', 'NN'), ('nnti', 'JJ'), ('trf', 'NN'), ('segitu', 'NN')]\n",
      "[('kamera', 'NN'), ('ngewiii', 'NN')]\n",
      "[('baterai', 'NN'), ('tahan', 'NN'), ('android', 'VBP'), ('baterai', 'NN'), ('k', 'NN'), ('mah', 'NN'), ('bohong', 'IN'), ('pakai', 'JJ'), ('charge', 'NN'), ('je', 'NN'), ('time', 'NN'), ('pakai', 'JJ'), ('hidup', 'RB'), ('low', 'JJ'), ('power', 'NN'), ('mode', 'NN'), ('baterai', 'NN'), ('tahan', 'NN')]\n",
      "[('mahal', 'NN'), ('secondnya', 'NN'), ('murah', 'NN'), ('coba', 'NN'), ('cek', 'NN'), ('deh', 'NN'), ('jt', 'NN')]\n",
      "[('baterai', 'NN'), ('tahan', 'NN'), ('au', 'NN')]\n",
      "[('bt', 'NN'), ('tuh', 'JJ'), ('charge', 'NN'), ('gue', 'NN'), ('mgecharge', 'NN'), ('full', 'JJ'), ('bs', 'NN'), ('jam', 'NN'), ('ngesearch', 'NN'), ('google', 'NN'), ('emg', 'NN'), ('hrs', 'NN'), ('beli', 'NN'), ('cepat', 'NN'), ('chargingnya', 'NN'), ('lg', 'NN'), ('udah', 'JJ'), ('dpt', 'NN'), ('charger', 'NN'), ('cepat', 'NN'), ('charger', 'NN'), ('hhh', 'NN'), ('kesel', 'NN')]\n",
      "[('hasil', 'NN'), ('gambar', 'NN'), ('kamera', 'NN'), ('mode', 'NN'), ('wide', 'JJ'), ('angle', 'NN'), ('cantik', 'NN'), ('natural', 'JJ')]\n",
      "[('harga', 'NN'), ('hitung', 'NN'), ('kecewa', 'NN'), ('bel', 'NN')]\n",
      "[('sistem', 'NN'), ('operasi', 'JJ'), ('lancar', 'NN'), ('anti', 'NN'), ('lot', 'NN')]\n",
      "[('desain', 'NN'), ('unik', 'JJ'), ('simpel', 'NN')]\n",
      "[('sayang', 'NN'), ('produk', 'NN'), ('rentan', 'NN'), ('lecet', 'NN'), ('case', 'NN')]\n",
      "[('pilih', 'NN'), ('case', 'NN'), ('agam', 'VBZ'), ('mudah', 'NNS'), ('temu', 'NN')]\n",
      "[('suka', 'NN'), ('nyaman', 'NN')]\n",
      "[('kualitas', 'NNS'), ('gambar', 'VBP'), ('jernih', 'NN'), ('kecewa', 'NN'), ('bel', 'NN')]\n",
      "[('milik', 'NN'), ('ukur', 'JJ'), ('layar', 'NN'), ('inchi', 'NN'), ('bosan', 'VBD'), ('lihat', 'WP')]\n",
      "[('ukur', 'JJ'), ('kamera', 'NN'), ('mp', 'NN'), ('kamera', 'NN'), ('mp', 'NN'), ('cocok', 'NN'), ('harga', 'NN')]\n",
      "[('milik', 'NN'), ('fitur', 'NN'), ('pindai', 'NN'), ('sidik', 'NN'), ('jari', 'NN'), ('anggap', 'NN'), ('cepat', 'NN'), ('mudah', 'NN'), ('kecewa', 'NN')]\n",
      "[('desain', 'NN'), ('lihat', 'WP'), ('hambar', 'VBZ'), ('bosan', 'NN')]\n",
      "[('sayang', 'NN'), ('baterai', 'NN'), ('boros', 'NN')]\n",
      "[('hasil', 'NN'), ('ambil', 'NN'), ('gambar', 'NN'), ('video', 'NN'), ('malam', 'NN'), ('muas', 'NN')]\n",
      "[('resolusi', 'NN'), ('gambar', 'NN'), ('video', 'NN'), ('hasil', 'NN'), ('bagus', 'NN'), ('zoom', 'NN'), ('pecah', 'NN')]\n",
      "[('pilih', 'NN'), ('warna', 'WRB'), ('unik', 'JJ'), ('bosan', 'NN')]\n",
      "[('milik', 'NN'), ('fitur', 'NN'), ('atur', 'NN'), ('buram', 'NN'), ('latar', 'NN'), ('foto', 'NN'), ('foto', 'NN'), ('lihat', 'WP'), ('fokus', 'VBZ'), ('objek', 'NN')]\n",
      "[('bisnis', 'NN'), ('cocok', 'NN'), ('milik', 'NN'), ('performa', 'NN')]\n",
      "[('milik', 'NN'), ('prosesor', 'NN'), ('hemat', 'NN'), ('persen', 'NN'), ('pakai', 'NN'), ('daya', 'NN'), ('baterai', 'NN')]\n",
      "[('isi', 'NN'), ('daya', 'NN'), ('super', 'NN'), ('cepat', 'NN')]\n",
      "[('tahan', 'RB'), ('air', 'NN'), ('tahan', 'JJ'), ('menit', 'NN')]\n",
      "[('desain', 'NN'), ('dimensi', 'NN'), ('layar', 'NN'), ('nyaman', 'NN'), ('genggam', 'NN')]\n",
      "[('milik', 'NN'), ('tingkat', 'NN'), ('cerah', 'NN')]\n",
      "[('kamera', 'NN'), ('telefoto', 'NN'), ('kamera', 'NN'), ('ultra', 'JJ'), ('wide', 'JJ'), ('asa', 'NN'), ('greget', 'NN')]\n",
      "[('sedia', 'NN'), ('lubang', 'NN'), ('audio', 'NN')]\n",
      "[('bagus', 'NN'), ('kamera', 'NN'), ('youtuber', 'NNP'), ('deh', 'NN')]\n",
      "[('baterai', 'NN'), ('awet', 'NN'), ('deh', 'NN'), ('main', 'JJ'), ('tiktok', 'NN')]\n",
      "[('ih', 'NN'), ('senang', 'NN'), ('deh', 'NN'), ('tiada', 'NN'), ('foto', 'NN'), ('gara', 'NN'), ('gara', 'NN'), ('kamera', 'NN')]\n",
      "[('kantong', 'JJ'), ('ribet', 'NN'), ('bawa', 'NN'), ('tas', 'NNS')]\n",
      "[('ukur', 'JJ'), ('layar', 'NN'), ('susah', 'NN'), ('ngegame', 'NN')]\n",
      "[('fitur', 'NN'), ('fitur', 'NN'), ('kamera', 'NN'), ('hasil', 'NN'), ('foto', 'NN'), ('cantik', 'NN'), ('deh', 'NN')]\n",
      "[('ios', 'NNS'), ('takut', 'VBP'), ('tinggal', 'JJ'), ('ios', 'NNS')]\n"
     ]
    },
    {
     "name": "stdout",
     "output_type": "stream",
     "text": [
      "[('harga', 'NN'), ('mahal', 'NN'), ('spesifikasi', 'NN')]\n",
      "[('milik', 'NNS'), ('memori', 'VBP'), ('internal', 'JJ'), ('memori', 'FW'), ('eksternal', 'JJ')]\n",
      "[('video', 'NN'), ('tiktok', 'NN'), ('hasil', 'NN'), ('jernih', 'NN')]\n",
      "[('jalan', 'NN'), ('jalan', 'NN'), ('puas', 'VBP'), ('dapatin', 'NN'), ('foto', 'NN'), ('foto', 'NN'), ('bagus', 'NN')]\n",
      "[('milik', 'NN'), ('ram', 'NN'), ('gb', 'NN')]\n",
      "[('sayang', 'NN'), ('ngecas', 'NN')]\n",
      "[('spesifikasi', 'NN'), ('wajar', 'NN'), ('harga', 'NN'), ('relatif', 'NN')]\n",
      "[('terkadang', 'NN'), ('kapasitas', 'NNS'), ('baterai', 'VBP'), ('turun', 'JJ'), ('drastis', 'NN'), ('ios', 'NNS')]\n",
      "[('aplikasi', 'NN'), ('bayar', 'NN')]\n",
      "[('baterai', 'NN'), ('boros', 'NNS'), ('bawa', 'VBP'), ('cas', 'NN')]\n",
      "[('kamera', 'NN'), ('kadang', 'NN'), ('suka', 'NN'), ('fokus', 'NN')]\n",
      "[('cerah', 'NN'), ('kamera', 'NN'), ('kadang', 'NN'), ('suka', 'NN'), ('stabil', 'NN')]\n",
      "[('komen', 'NNS'), ('kamera', 'VBP'), ('kayak', 'NN'), ('kompor', 'NN'), ('ih', 'NN')]\n",
      "[('efek', 'NN'), ('glowingnya', 'NN'), ('kamera', 'NN')]\n",
      "[('kamera', 'NN'), ('bagus', 'NN'), ('bagus', 'NN')]\n",
      "[('hasil', 'NN'), ('foto', 'NN'), ('malam', 'NN'), ('lihat', 'WP'), ('bagus', 'VBD')]\n",
      "[('efek', 'NN'), ('gabisa', 'NN'), ('nutupin', 'NN'), ('jerawat', 'NN')]\n",
      "[('kesini', 'NN'), ('kamera', 'NN'), ('aneh', 'NN'), ('ih', 'NN'), ('jelek', 'NN')]\n",
      "[('udah', 'JJ'), ('kayak', 'NN'), ('minum', 'NN'), ('boba', 'NN'), ('kamera', 'NN')]\n",
      "[('beli', 'JJ'), ('baterai', 'NN'), ('awet', 'NN'), ('pakai', 'NN'), ('main', 'JJ'), ('tiktok', 'NN')]\n",
      "[('bawa', 'NN'), ('cas', 'NN'), ('deh', 'NN'), ('baterai', 'NN'), ('tahan', 'NN')]\n",
      "[('udah', 'JJ'), ('sehat', 'WP'), ('baterai', 'VBZ'), ('turun', 'NN')]\n",
      "[('awet', 'NN')]\n",
      "[('nyesel', 'JJ'), ('beli', 'NN'), ('baterai', 'IN'), ('nonton', 'NN'), ('youtube', 'NN')]\n",
      "[('irit', 'NN'), ('baterai', 'NN'), ('varian', 'NN')]\n",
      "[('ngecas', 'NN'), ('loh', 'NN')]\n",
      "[('boros', 'NNS'), ('baterai', 'VBP')]\n",
      "[('nyesel', 'JJ'), ('beli', 'NN'), ('tau', 'NN'), ('baterai', 'NN'), ('boros', 'NN')]\n",
      "[('main', 'JJ'), ('jam', 'NN'), ('udah', 'JJ'), ('habis', 'NN'), ('baterai', 'NN')]\n",
      "[('baterai', 'NN'), ('copot', 'NN')]\n",
      "[('ngedit', 'NN'), ('video', 'NN'), ('tiktok', 'NN'), ('cuman', 'NN'), ('kayak', 'VBD'), ('gin', 'NN'), ('baterai', 'NN')]\n",
      "[('udah', 'JJ'), ('kayak', 'NNP'), ('air', 'NN'), ('terjun', 'NN'), ('baterai', 'NN'), ('cepat', 'NN'), ('ngalirnya', 'NN')]\n",
      "[('ukur', 'NN')]\n",
      "[('jatuh', 'NN'), ('liat', 'NN'), ('lecet', 'NN'), ('karna', 'FW'), ('desa', 'NN'), ('kilap', 'NN')]\n",
      "[('ukur', 'JJ'), ('susah', 'NN'), ('masuk', 'NN'), ('saku', 'NN')]\n",
      "[('capek', 'NN'), ('genggam', 'NN'), ('gede', 'NN')]\n",
      "[('performa', 'NN'), ('bagus', 'NN'), ('cepat', 'NN')]\n",
      "[('mah', 'RB'), ('main', 'JJ'), ('game', 'NN'), ('anti', 'NN'), ('lot', 'NN'), ('sistem', 'NN'), ('operasi', 'JJ'), ('lancar', 'NN')]\n",
      "[('kesini', 'NN'), ('kerja', 'NN'), ('sistem', 'NN'), ('operasi', 'NN')]\n",
      "[('bisnis', 'NN'), ('lancar', 'NN'), ('deh', 'NN'), ('perfomanya', 'NN'), ('kayak', 'NN'), ('gin', 'NN')]\n",
      "[('spesifikasi', 'NN'), ('muas', 'NN'), ('ragu', 'NN')]\n",
      "[('sayang', 'NN'), ('ram', 'NN'), ('gb', 'NN')]\n",
      "[('kadang', 'NN'), ('ios', 'NNS'), ('suka', 'VBP'), ('ngefek', 'JJ'), ('aplikasi', 'NN')]\n",
      "[('fitur', 'NN'), ('sidik', 'NN'), ('jari', 'NN'), ('hapus', 'NN'), ('ribet', 'NN')]\n",
      "[('sebel', 'NN'), ('tombol', 'NN'), ('hilang', 'NN')]\n",
      "[('ih', 'JJ'), ('cuman', 'NN'), ('memori', 'VBD'), ('internal', 'JJ'), ('memori', 'FW'), ('eksternal', 'JJ')]\n",
      "[('sebel', 'NN'), ('lubang', 'NN'), ('audio', 'NN')]\n",
      "[('fitur', 'NN'), ('fiturnya', 'NN'), ('ganti', 'NN'), ('ribet', 'NN')]\n",
      "[('kecewa', 'NN'), ('ram', 'NN'), ('tingkat', 'NN')]\n",
      "[('g', 'NN'), ('g', 'NN')]\n",
      "[('jamin', 'NN'), ('gabakal', 'NN'), ('nyesel', 'NN'), ('deh', 'NN'), ('beli', 'NN'), ('harga', 'NN'), ('segitu', 'NN')]\n",
      "[('wajar', 'NN'), ('harga', 'NN'), ('segitu', 'NN'), ('pakai', 'NN'), ('jangka', 'NN')]\n",
      "[('harga', 'NN'), ('jangkau', 'NN')]\n",
      "[('barang', 'NN'), ('merek', 'NN'), ('harga', 'NN'), ('segitu', 'NN'), ('wajar', 'NN')]\n",
      "[('kualitas', 'NNS'), ('harga', 'NN')]\n",
      "[('harga', 'NN'), ('segitu', 'NN'), ('mah', 'NN'), ('mahal', 'NN')]\n",
      "[('udah', 'JJ'), ('beli', 'JJ'), ('nyesel', 'NN'), ('harga', 'NN'), ('segitu', 'NN')]\n",
      "[('tahan', 'NN'), ('harga', 'NN'), ('segitu', 'NN'), ('wajar', 'NN')]\n",
      "[('jual', 'JJ'), ('ginjal', 'NN'), ('beli', 'NN')]\n",
      "[('nabung', 'NN'), ('beli', 'NN')]\n",
      "[('dompet', 'NN'), ('kering', 'VBG'), ('beli', 'NN')]\n",
      "[('mahal', 'NN'), ('harga', 'NN')]\n",
      "[('udah', 'JJ'), ('minder', 'NN'), ('duluan', 'NN'), ('lihat', 'WP'), ('harga', 'NN')]\n",
      "[('harga', 'NN'), ('udah', 'JJ'), ('deh', 'NN'), ('liat', 'NN'), ('ulas', 'NNS')]\n",
      "[('turun', 'NN'), ('turun', 'NN'), ('harga', 'NN')]\n",
      "[('suka', 'NN'), ('deh', 'NN'), ('liat', 'NN'), ('harga', 'NN')]\n",
      "[('kamera', 'NN'), ('bagus', 'NN'), ('banding', 'VBG'), ('saing', 'VBG'), ('kualitas', 'NNS'), ('hasil', 'NN'), ('jepret', 'NN'), ('oke', 'VBD')]\n",
      "[('ngga', 'JJ'), ('suka', 'NN'), ('warna', 'NN'), ('merah', 'NN')]\n",
      "[('baterai', 'NN'), ('ngga', 'CC'), ('beda', 'NN'), ('boros', 'NNS')]\n",
      "[('bagus', 'NN'), ('warna', 'NN'), ('kuning', 'VBG'), ('ken', 'VBN'), ('beli', 'NN')]\n",
      "[('segi', 'NN'), ('harga', 'NN'), ('mahal', 'NN'), ('kualitas', 'NNS'), ('kamera', 'VBP'), ('tetep', 'NN'), ('hati', 'NN')]\n",
      "[('hasil', 'NN'), ('jepret', 'NN'), ('kamera', 'NN')]\n",
      "[('spek', 'NN'), ('ngga', 'CC'), ('beda', 'NN'), ('ngga', 'NN'), ('hebat', 'NN')]\n",
      "[('nyesel', 'JJ'), ('buru', 'NN'), ('buru', 'NN'), ('beli', 'JJ'), ('spesifikasi', 'NN'), ('kayak', 'NN')]\n",
      "[('charger', 'NN'), ('ngga', 'CC'), ('awet', 'JJ'), ('mudah', 'NN'), ('rusak', 'NN')]\n",
      "[('daya', 'NN'), ('tahan', 'NN'), ('baterai', 'NN'), ('banding', 'NN')]\n",
      "[('ukur', 'JJ'), ('tang', 'NN'), ('nyaman', 'NN')]\n",
      "[('harga', 'NN'), ('oke', 'VBD'), ('masuk', 'JJ'), ('isi', 'NN'), ('kantong', 'NN')]\n",
      "[('varian', 'JJ'), ('warna', 'NN'), ('banding', 'VBG'), ('kayak', 'JJ'), ('beli', 'JJ'), ('deh', 'NN'), ('layak', 'NN')]\n",
      "[('ngga', 'JJ'), ('kalah', 'NN'), ('keren', 'NNS'), ('segi', 'VBP'), ('kamera', 'NN'), ('spesifikasi', 'NN')]\n",
      "[('speaker', 'NN'), ('jelek', 'NN'), ('kayak', 'NN'), ('mendelep', 'NN')]\n",
      "[('hasil', 'NN'), ('video', 'NN'), ('bagus', 'NN'), ('suka', 'NN'), ('parah', 'NN')]\n",
      "[('cepat', 'NN'), ('charger', 'NN'), ('cepat', 'NN'), ('banding', 'VBG'), ('cas', 'NNS'), ('oke', 'VBD')]\n",
      "[('desain', 'NN'), ('kamera', 'NN'), ('dikotakin', 'NN'), ('liat', 'NN'), ('aneh', 'NN')]\n",
      "[('ios', 'NNS'), ('ngga', 'VBP'), ('sabar', 'NN'), ('nunggu', 'NN'), ('udah', 'JJ'), ('liat', 'NN'), ('preview', 'NN'), ('bagus', 'NN')]\n",
      "[('ram', 'NN'), ('oke', 'VBD'), ('gb', 'JJ'), ('banding', 'NN'), ('langsung', 'NN'), ('gas', 'NN'), ('beli', 'NN')]\n",
      "[('coba', 'NN'), ('kamera', 'NN'), ('iphonne', 'NN'), ('nyata', 'NNS'), ('night', 'NN'), ('mode', 'NN'), ('keren', 'NNS'), ('hasil', 'VBP'), ('terang', 'NN'), ('terang', 'NN')]\n",
      "[('night', 'NN'), ('mode', 'NN'), ('abis', 'NN'), ('pikir', 'NN'), ('keren', 'NNS'), ('abis', 'VBP')]\n",
      "[('susah', 'NN'), ('susah', 'NN'), ('cari', 'NN'), ('terang', 'NN'), ('poto', 'NN'), ('lo', 'NN'), ('poto', 'NN'), ('segelapa', 'NN'), ('hasil', 'NN'), ('terang', 'NN')]\n",
      "[('beli', 'JJ'), ('sayur', 'NN'), ('coba', 'NN'), ('kamera', 'NN'), ('ku', 'NN'), ('nyata', 'JJ'), ('hasil', 'NN'), ('kecewa', 'NN')]\n",
      "[('gambar', 'NN'), ('jepret', 'NN'), ('resolusi', 'NN'), ('main', 'JJ'), ('main', 'JJ')]\n",
      "[('backlight', 'NN'), ('foto', 'NN'), ('bagus', 'NN')]\n",
      "[('hasil', 'NN'), ('poto', 'NN'), ('kamera', 'NN'), ('kalah', 'NN'), ('dslr', 'NN')]\n",
      "[('kes', 'NNS'), ('hasil', 'VBP'), ('night', 'NN'), ('mode', 'NN')]\n",
      "[('harga', 'NN'), ('mahal', 'NN'), ('kamera', 'NN'), ('juara', 'NN')]\n",
      "[('malem', 'NN'), ('ken', 'VBZ'), ('coba', 'JJ'), ('night', 'NN'), ('mode', 'NN'), ('hasil', 'NN'), ('bagus', 'NN')]\n",
      "[('nyata', 'NNS'), ('kamera', 'NN'), ('bagus', 'NN'), ('orang', 'NN'), ('bilang', 'NN'), ('tuh', 'NN')]\n",
      "[('hasil', 'NN'), ('potonya', 'NN'), ('banding', 'VBG'), ('harga', 'NN')]\n",
      "[('incer', 'NN'), ('kamera', 'NN'), ('beli', 'NN'), ('dslr', 'NN'), ('bagus', 'NN')]\n",
      "[('foto', 'NN'), ('kamera', 'NN'), ('bagus', 'NN'), ('gelap', 'NN')]\n",
      "[('tuh', 'NN'), ('kamera', 'NN')]\n",
      "[('gue', 'NN'), ('ngerasa', 'NN'), ('beda', 'NN'), ('signifikan', 'NN'), ('kualitas', 'NNS'), ('kamera', 'NN')]\n",
      "[('kualitas', 'NNS'), ('kamera', 'VBP'), ('banding', 'VBG'), ('harga', 'NN')]\n",
      "[('kamera', 'NN'), ('ah', 'NN'), ('lebay', 'NN')]\n",
      "[('bagus', 'NN'), ('kamera', 'NN'), ('liat', 'NN'), ('harga', 'NN'), ('mahal', 'NN'), ('timpal', 'NN')]\n",
      "[('kamera', 'NN'), ('jelek', 'NN'), ('aneh', 'NN'), ('liat', 'NN')]\n",
      "[('beneran', 'NN'), ('cepat', 'NN'), ('charger', 'NN'), ('menit', 'NN'), ('langsung', 'CC'), ('full', 'JJ'), ('tuh', 'NN')]\n",
      "[('baterai', 'NN'), ('bagus', 'NN'), ('seris', 'NN')]\n",
      "[('baterai', 'NN'), ('tahan', 'IN'), ('nonton', 'JJ'), ('video', 'NN'), ('jam', 'NN'), ('jam', 'NN'), ('awet', 'NN')]\n",
      "[('baterai', 'NN'), ('bagus', 'NN')]\n",
      "[('isi', 'NN'), ('daya', 'NN'), ('ponsel', 'NN'), ('malam', 'NN'), ('sehat', 'WP'), ('baterai', 'NN')]\n",
      "[('main', 'JJ'), ('jam', 'NN'), ('pagi', 'NN'), ('jam', 'NN'), ('malem', 'NN'), ('baterai', 'NN'), ('habis', 'NN'), ('persen', 'NN')]\n",
      "[('baterai', 'NN'), ('awet', 'NN'), ('tuh', 'NN'), ('bawa', 'NN'), ('charger', 'NN')]\n",
      "[('baterai', 'NN')]\n",
      "[('isi', 'NN'), ('daya', 'NN'), ('baterai', 'NN'), ('cepat', 'NN')]\n",
      "[('baterai', 'NN'), ('awet', 'NN'), ('streaming', 'VBG')]\n",
      "[('bilang', 'NN'), ('milik', 'NN'), ('pakai', 'NN'), ('baterai', 'NN'), ('tuh', 'NN'), ('pakai', 'NN'), ('baterai', 'NN'), ('jam', 'NN')]\n",
      "[('isi', 'NN'), ('daya', 'NN'), ('baterai', 'NN'), ('penuh', 'NN')]\n",
      "[('baterai', 'NN'), ('awet', 'NN'), ('tuh', 'NN')]\n",
      "[('daya', 'NN'), ('tahan', 'NN'), ('baterai', 'NN'), ('jelek', 'NN'), ('kalah', 'NN'), ('samsung', 'NN')]\n",
      "[('ngerasa', 'JJ'), ('baterai', 'NN'), ('awet', 'JJ'), ('seris', 'NN'), ('boros', 'NNS')]\n",
      "[('baterai', 'NN'), ('tahan', 'NN'), ('pakai', 'NN'), ('isi', 'NN'), ('ulang', 'JJ'), ('mulu', 'NN')]\n",
      "[('nge', 'JJ'), ('game', 'NN'), ('tahan', 'NN'), ('baterai', 'NN')]\n",
      "[('kuat', 'NN'), ('baterai', 'NN')]\n",
      "[('baterai', 'NN'), ('kuat', 'NN')]\n",
      "[('cepat', 'NN'), ('abis', 'NN'), ('baterai', 'NN')]\n",
      "[('spesifikasi', 'JJ'), ('keren', 'NNS'), ('harga', 'VBP'), ('jangkau', 'NN')]\n",
      "[('bole', 'NN'), ('harga', 'NN'), ('segitu', 'NN'), ('spesifikasi', 'NN'), ('bagus', 'NN')]\n",
      "[('harga', 'NN'), ('masuk', 'NN'), ('akal', 'NN'), ('mahal', 'NN'), ('harga', 'NN'), ('segitu', 'NN')]\n",
      "[('murah', 'NN'), ('segitu', 'NN'), ('mah', 'NN'), ('dolar', 'JJ'), ('mahal', 'NN'), ('indo', 'NN')]\n",
      "[('nyata', 'NNS'), ('murah', 'NNS'), ('kiarain', 'VBP'), ('mahal', 'JJ'), ('harga', 'NN')]\n",
      "[('mahal', 'NN'), ('kualitas', 'NNS'), ('harga', 'VBP')]\n",
      "[('murah', 'NN'), ('gue', 'NN'), ('barang', 'NN'), ('merek', 'NN'), ('wajar', 'NN')]\n"
     ]
    },
    {
     "name": "stdout",
     "output_type": "stream",
     "text": [
      "[('harga', 'NN'), ('murah', 'NN'), ('gue', 'NN'), ('beli', 'NN'), ('nyampe', 'NN'), ('juta', 'NN')]\n",
      "[('kirain', 'NN'), ('harga', 'NN'), ('mahal', 'NN'), ('nyata', 'NN'), ('engga', 'NN'), ('mahal', 'NN')]\n",
      "[('harga', 'NN'), ('murah', 'NN'), ('ukur', 'NN')]\n",
      "[('mahal', 'NN'), ('harga', 'NN'), ('sanggup', 'NN'), ('beli', 'NN')]\n",
      "[('harga', 'NN'), ('mahal', 'RBS'), ('jual', 'JJ'), ('ginjal', 'NN')]\n",
      "[('sultan', 'JJ'), ('mah', 'NN'), ('mahal', 'NN')]\n",
      "[('setimapal', 'JJ'), ('gue', 'NN'), ('harga', 'NN'), ('mahal', 'NN'), ('beli', 'JJ'), ('beli', 'JJ'), ('laptop', 'NN')]\n",
      "[('mahal', 'JJ'), ('harga', 'NN'), ('motor', 'NN')]\n",
      "[('mahal', 'NN'), ('harga', 'NN'), ('model', 'NN'), ('liat', 'NN'), ('murah', 'NN'), ('seris', 'NN')]\n",
      "[('ken', 'VBN'), ('suka', 'JJ'), ('liat', 'NN'), ('harga', 'NN')]\n",
      "[('barang', 'NN'), ('merek', 'NN'), ('mahal', 'NN')]\n",
      "[('harga', 'NN'), ('masuk', 'NN'), ('akal', 'NN'), ('suka', 'NN')]\n",
      "[('mahal', 'NN'), ('nulai', 'NN'), ('tukar', 'NN'), ('rupiah', 'NN'), ('dolar', 'JJ'), ('mahal', 'NN')]\n",
      "[('body', 'NN'), ('bagus', 'JJ'), ('liat', 'JJ'), ('mewah', 'NN')]\n",
      "[('layar', 'JJ'), ('lebar', 'NN'), ('enak', 'NN')]\n",
      "[('pilih', 'NN'), ('warna', 'WRB'), ('unik', 'JJ'), ('bagus', 'NN'), ('bagus', 'NN')]\n",
      "[('gemes', 'NNS'), ('liat', 'VBP'), ('warna', 'NN')]\n",
      "[('warna', 'NN'), ('kuning', 'VBG'), ('bagus', 'NN')]\n",
      "[('gue', 'NN'), ('suka', 'NN'), ('model', 'NN'), ('liat', 'NN'), ('fresh', 'JJ'), ('unik', 'NN')]\n",
      "[('pilih', 'NN'), ('warna', 'NN'), ('bagus', 'NN')]\n",
      "[('hpnya', 'NN'), ('enak', 'NN'), ('liat', 'NN'), ('layar', 'NN')]\n",
      "[('hpnya', 'NN'), ('ringan', 'NN'), ('nyata', 'JJ'), ('berat', 'NN'), ('berat', 'NN')]\n",
      "[('nyata', 'NNS'), ('anti', 'VBP'), ('air', 'NN'), ('gue', 'NN'), ('rendem', 'NN')]\n",
      "[('layar', 'NN'), ('jelek', 'NN'), ('rentan', 'NN'), ('retak', 'NN'), ('lindung', 'NN'), ('layar', 'NN')]\n",
      "[('spesial', 'JJ'), ('design', 'NN'), ('hpnya', 'NN'), ('beda', 'NN'), ('series', 'NN')]\n",
      "[('kualitas', 'NNS'), ('speakernya', 'VBP'), ('jelek', 'NN'), ('mahal', 'NN')]\n",
      "[('layar', 'NN'), ('gampang', 'NN'), ('retak', 'NN'), ('lindung', 'NN')]\n",
      "[('model', 'NN'), ('hpnya', 'NN'), ('unik', 'JJ'), ('tuh', 'NN'), ('model', 'NN'), ('seris', 'NN'), ('xr', 'NN')]\n",
      "[('model', 'NN'), ('layar', 'NN'), ('kaya', 'FW'), ('seris', 'JJ'), ('kesan', 'FW'), ('liat', 'NN'), ('jadul', 'NN')]\n",
      "[('model', 'NN'), ('kaya', 'CD'), ('murah', 'NN')]\n",
      "[('layar', 'NN'), ('bezelnya', 'NN'), ('tebel', 'NN'), ('kaya', 'NN'), ('seris', 'NN'), ('enak', 'NN'), ('liatanya', 'NN')]\n",
      "[('kardus', 'NN'), ('kabel', 'NN'), ('earpodnya', 'NN'), ('beli', 'NN'), ('pisah', 'NN')]\n",
      "[('warna', 'NN'), ('jelek', 'NN'), ('liat', 'NN'), ('mewah', 'NN'), ('murah', 'NN')]\n",
      "[('layar', 'NN'), ('udah', 'JJ'), ('ips', 'NNS'), ('nyata', 'RB'), ('enak', 'VBP'), ('liat', 'NN')]\n",
      "[('spesifikasi', 'JJ'), ('keren', 'NNS'), ('chip', 'NN'), ('cpu', 'VBP'), ('gpu', 'JJ'), ('ponsel', 'NN'), ('cepat', 'NN')]\n",
      "[('layar', 'NN'), ('udah', 'JJ'), ('teknologi', 'JJ'), ('liquidretina', 'NN'), ('lcd', 'NN'), ('liat', 'NN'), ('tajam', 'NN')]\n",
      "[('lihat', 'RB'), ('layar', 'VBZ'), ('kaya', 'NN'), ('nyata', 'NNS'), ('bagus', 'VBP'), ('spesifikasi', 'NN')]\n",
      "[('layar', 'NN'), ('sensitif', 'NN'), ('seris', 'NN'), ('enak', 'NN'), ('pakenya', 'NN')]\n",
      "[('puas', 'NN'), ('beli', 'NN'), ('mahal', 'NN'), ('spesifikasi', 'NN'), ('muas', 'NN')]\n",
      "[('layar', 'JJ'), ('lebar', 'NN'), ('inchi', 'NN'), ('enak', 'VBP'), ('nonton', 'RB'), ('main', 'JJ'), ('game', 'NN')]\n",
      "[('audio', 'JJ'), ('dolby', 'NN'), ('suara', 'NN'), ('jernih', 'NN')]\n",
      "[('kualitas', 'NNS'), ('layar', 'VBP'), ('oke', 'JJ'), ('tingkat', 'NN'), ('cerah', 'NN'), ('mata', 'NNS'), ('sakit', 'VBP'), ('liat', 'JJ'), ('layar', 'NN')]\n",
      "[('gpu', 'NN'), ('bagus', 'NN'), ('ngalah', 'JJ'), ('grapisnya', 'NN'), ('kenceng', 'NN')]\n",
      "[('port', 'NN'), ('headset', 'NN'), ('ribet', 'NN')]\n",
      "[('fitur', 'NN'), ('kam', 'NN'), ('jelek', 'NN'), ('jari', 'NN')]\n",
      "[('bom', 'NN'), ('g', 'NN'), ('susah', 'NN'), ('deh', 'NN'), ('indo', 'NN'), ('udah', 'JJ'), ('g', 'NN')]\n",
      "[('ram', 'NN'), ('yange', 'NN'), ('dikit', 'NN'), ('kasih', 'NN'), ('mahal', 'NN')]\n",
      "[('g', 'NN'), ('hpnya', 'NN'), ('harga', 'NN'), ('murah', 'NN'), ('loh', 'NN')]\n",
      "[('radio', 'NN'), ('denger', 'NN'), ('radio', 'NN'), ('deh', 'NN'), ('gara', 'NN'), ('gara', 'NN'), ('ganti', 'NN')]\n",
      "[('memori', 'JJ'), ('ram', 'NN'), ('gabisa', 'NN'), ('aplikasi', 'NN')]\n",
      "[('layar', 'JJ'), ('ips', 'NNS'), ('tajam', 'VBP'), ('cerah', 'NN'), ('oled', 'VBD')]\n",
      "[('dukung', 'NN'), ('headset', 'NN'), ('portnya', 'NN'), ('beli', 'NN'), ('earpod', 'NN')]\n",
      "[('kecewa', 'NN'), ('spesifikasi', 'NN'), ('keren', 'NNS'), ('harap', 'NN')]\n",
      "[('ganyesel', 'NN'), ('deh', 'NN'), ('beli', 'NN'), ('kamera', 'NN'), ('bagus', 'NN')]\n",
      "[('xr', 'NN'), ('rada', 'NN'), ('berat', 'NN'), ('deh', 'NN'), ('kamera', 'NN'), ('effect', 'NN'), ('effect', 'NN'), ('glowing', 'NN')]\n",
      "[('ganyesel', 'NN'), ('deh', 'NN'), ('beli', 'NN'), ('kamera', 'NN'), ('bagus', 'NN')]\n",
      "[('suka', 'NN'), ('kamera', 'NN'), ('ultra', 'JJ'), ('wide', 'JJ')]\n",
      "[('resolusi', 'NN'), ('kaya', 'NN'), ('kamera', 'NN'), ('slr', 'NN')]\n",
      "[('bagus', 'NN'), ('kamera', 'NN')]\n",
      "[('kamera', 'NN'), ('jatuh', 'NN'), ('cinta', 'NN')]\n",
      "[('natural', 'JJ'), ('kamera', 'NN')]\n",
      "[('keren', 'NNS'), ('kamera', 'NN')]\n",
      "[('beli', 'JJ'), ('suka', 'NN'), ('kamera', 'NN')]\n",
      "[('natural', 'JJ'), ('muka', 'NN'), ('ku', 'NN'), ('jerawat', 'NN')]\n",
      "[('kamera', 'NN'), ('tetep', 'NN'), ('muka', 'NN'), ('glowing', 'NN')]\n",
      "[('asli', 'NN'), ('kamera', 'NN')]\n",
      "[('beli', 'JJ'), ('kamera', 'NN'), ('bagus', 'NN')]\n",
      "[('jatoh', 'NN'), ('pas', 'NN'), ('kamera', 'NN'), ('langsung', 'NN'), ('pecah', 'NN')]\n",
      "[('kamera', 'NN'), ('tonjol', 'NN'), ('taro', 'NN'), ('meja', 'NN'), ('kaya', 'NN'), ('gesek', 'NN')]\n",
      "[('kamera', 'NN'), ('beda', 'NN'), ('kaya', 'NN')]\n",
      "[('kamera', 'NN'), ('sampe', 'NN')]\n",
      "[('kamera', 'NN')]\n",
      "[('pori', 'NN'), ('pori', 'NN'), ('liat', 'NN'), ('kamera', 'NN')]\n",
      "[('boros', 'NNS'), ('baterai', 'VBP'), ('xr', 'NN')]\n",
      "[('cepat', 'NN'), ('isi', 'NN'), ('baterai', 'NN'), ('keren', 'NN')]\n",
      "[('irit', 'NN'), ('baterai', 'NN')]\n",
      "[('ganyangka', 'NN'), ('baterai', 'NN'), ('cepat', 'NN'), ('isi', 'NN')]\n",
      "[('udah', 'JJ'), ('sekian', 'JJ'), ('nyata', 'NN'), ('baterai', 'NN'), ('boros', 'NN')]\n",
      "[('neng', 'JJ'), ('charge', 'NN'), ('sebentar', 'NN'), ('langsung', 'NN'), ('penuh', 'NN')]\n",
      "[('cepat', 'NN'), ('penuh', 'NN'), ('baterai', 'NN')]\n",
      "[('ganyangka', 'NN'), ('kirain', 'NN'), ('baterai', 'NN'), ('boros', 'NN'), ('nyata', 'NNS'), ('irit', 'NN')]\n",
      "[('salut', 'NN'), ('baterai', 'NN'), ('xr', 'NNP'), ('cepat', 'NN'), ('isi', 'NN'), ('boros', 'NN')]\n",
      "[('canggih', 'NN'), ('baterai', 'NN'), ('gabakal', 'JJ'), ('dikomen', 'NNS'), ('boros', 'NNS')]\n",
      "[('orang', 'NN'), ('boros', 'NNS'), ('tetep', 'VBP')]\n",
      "[('bilang', 'NN'), ('boros', 'NNS'), ('tetep', 'VBP'), ('boros', 'NNS'), ('tau', 'VBP')]\n",
      "[('kesel', 'NN'), ('tuh', 'NN'), ('boros', 'NN'), ('baterai', 'NN')]\n",
      "[('pingin', 'NN'), ('baterai', 'NN'), ('irit', 'NN'), ('nokia', 'JJ'), ('tetep', 'NN'), ('boros', 'NNS'), ('asli', 'VBP')]\n",
      "[('terimakasih', 'NN'), ('baterai', 'NN'), ('bawa', 'NN'), ('charger', 'NN')]\n",
      "[('charge', 'NN'), ('boros', 'NNS'), ('parah', 'VBP')]\n",
      "[('kirain', 'NN'), ('irit', 'NN'), ('nyata', 'NNS'), ('boros', 'NNS'), ('baterai', 'VBP')]\n",
      "[('fitur', 'NN'), ('bagus', 'NN'), ('warna', 'NN'), ('lucu', 'NN'), ('giur', 'NN'), ('baterai', 'NN'), ('pikir', 'NN'), ('tahan', 'NN')]\n",
      "[('ku', 'NN'), ('udah', 'JJ'), ('harga', 'NN'), ('mahal', 'NN'), ('baterai', 'NN'), ('boros', 'NN'), ('lengkap', 'NN')]\n",
      "[('canggih', 'NN'), ('baterai', 'NN'), ('daya', 'NN'), ('tahan', 'NN')]\n",
      "[('kalang', 'NN'), ('remaja', 'NN')]\n",
      "[('fitur', 'NN'), ('tagih', 'NN'), ('huaaa', 'NN'), ('pgn', 'NN'), ('beli', 'NN')]\n",
      "[('bagus', 'NN'), ('warna', 'WRB'), ('warna', 'NN'), ('series', 'NN')]\n",
      "[('semenjak', 'JJ'), ('teman', 'NN'), ('teman', 'NN'), ('ku', 'VBD'), ('pinjam', 'JJ'), ('foto', 'NN'), ('foto', 'NN')]\n",
      "[('bingung', 'NN'), ('pilih', 'NN'), ('warna', 'NN'), ('bagus', 'NN')]\n",
      "[('yaallah', 'NN'), ('rejeki', 'NN'), ('beli', 'JJ'), ('series', 'NN'), ('pingin', 'NN'), ('warna', 'IN'), ('midnight', 'NN'), ('keren', 'NNS')]\n",
      "[('series', 'NN'), ('warna', 'WRB'), ('ungu', 'JJ'), ('bagus', 'NN')]\n",
      "[('warna', 'NN'), ('ungu', 'JJ'), ('midnight', 'NN'), ('bagus', 'NN'), ('jujur', 'NN'), ('midnight', 'NN'), ('keren', 'NN')]\n",
      "[('udah', 'JJ'), ('asa', 'NN'), ('mewah', 'NN'), ('deh', 'NN')]\n",
      "[('nonton', 'NN'), ('enak', 'VBZ'), ('layar', 'NN')]\n",
      "[('rentan', 'JJ'), ('lamalama', 'NN'), ('gampang', 'NN'), ('retak', 'NN'), ('jatoh', 'NN')]\n",
      "[('kecewa', 'NN'), ('suka', 'NN'), ('fitur', 'NN'), ('sidik', 'NN'), ('jari', 'NN'), ('face', 'NN'), ('id', 'NN')]\n",
      "[('tang', 'NN')]\n",
      "[('layar', 'NN'), ('gampang', 'NN'), ('retak', 'NN')]\n",
      "[('udah', 'JJ'), ('jatoh', 'NN'), ('rentan', 'NN'), ('retak', 'NN')]\n",
      "[('lindung', 'JJ'), ('tetep', 'NN'), ('retak', 'NN')]\n",
      "[('model', 'NN')]\n",
      "[('kamera', 'NN'), ('model', 'NN')]\n",
      "[('model', 'NN'), ('tangan', 'JJ'), ('gabisa', 'NNS'), ('pegang', 'NN')]\n",
      "[('sebel', 'NN'), ('jatoh', 'NN'), ('langsung', 'NN'), ('lecet', 'NN'), ('pinggir', 'NN')]\n",
      "[('ku', 'NN'), ('sesuai', 'NN'), ('harga', 'NN'), ('spesifikasi', 'NN')]\n",
      "[('oke', 'NN'), ('harga', 'NN'), ('segitu', 'NN'), ('spesifikasi', 'NN'), ('keren', 'NNS'), ('gin', 'VBP')]\n",
      "[('orang', 'NN'), ('mahal', 'NN'), ('ku', 'NN'), ('harga', 'NN'), ('kualitas', 'NNS')]\n",
      "[('xr', 'JJ'), ('mahal', 'NN'), ('gue', 'NN')]\n",
      "[('wajar', 'NN'), ('harga', 'NN'), ('segitu', 'NN'), ('wanita', 'NN'), ('kamera', 'NN'), ('hey', 'NN'), ('keren', 'NNS')]\n",
      "[('xr', 'JJ'), ('mahal', 'NN'), ('beli', 'NN'), ('kaya', 'NN'), ('sampe', 'NN'), ('juta', 'NN'), ('juta', 'NN')]\n",
      "[('murah', 'NN'), ('segitu', 'NN'), ('mah', 'NN')]\n",
      "[('harga', 'NN'), ('normal', 'JJ'), ('segitu', 'NN')]\n",
      "[('kaget', 'VB'), ('liat', 'JJ'), ('harga', 'NN'), ('sesuai', 'NN'), ('spesifikasi', 'NN')]\n",
      "[('wajar', 'NN'), ('harga', 'NN'), ('segitu', 'NN'), ('series', 'NN'), ('series', 'NN'), ('target', 'NN'), ('pasar', 'JJ'), ('segitu', 'NN')]\n",
      "[('jual', 'JJ'), ('ginjal', 'NN'), ('mah', 'NN'), ('series', 'NN'), ('mahal', 'NN')]\n",
      "[('harga', 'NN'), ('jangkau', 'NN'), ('kaya', 'NN')]\n",
      "[('uras', 'JJ'), ('dompet', 'NN'), ('harga', 'NN')]\n",
      "[('minder', 'NN'), ('harga', 'NN')]\n",
      "[('gabisa', 'NN'), ('mahal', 'NN'), ('woy', 'NN'), ('beli', 'NN'), ('harga', 'NN')]\n",
      "[('juta', 'NN'), ('mulu', 'NN'), ('harga', 'NN')]\n",
      "[('udah', 'JJ'), ('canggih', 'NN'), ('harga', 'NN'), ('canggih', 'NN'), ('eh', 'NN'), ('maksud', 'NN'), ('mahal', 'NN'), ('asli', 'NN')]\n",
      "[('kaget', 'VB'), ('lihat', 'WP'), ('harga', 'JJ'), ('sultan', 'NN'), ('biar', 'NN'), ('beli', 'NN')]\n",
      "[('mahal', 'NN'), ('letak', 'NN'), ('murah', 'NN'), ('segi', 'NN'), ('bilang', 'NN'), ('harga', 'NN'), ('murah', 'NN')]\n",
      "[('bilang', 'NN'), ('harga', 'NN'), ('murah', 'NN'), ('mahal', 'NN'), ('woy', 'NN'), ('gabisa', 'NN'), ('liat', 'NN')]\n",
      "[('spesifikasi', 'NN'), ('bagus', 'NN'), ('harga', 'NN'), ('kantong', 'IN'), ('kering', 'VBG'), ('terimakasih', 'NN')]\n",
      "[('layar', 'JJ'), ('lebar', 'NN'), ('main', 'JJ'), ('game', 'NN'), ('enak', 'NN')]\n",
      "[('layar', 'JJ'), ('mulus', 'CC'), ('jernih', 'JJ'), ('nonton', 'NN'), ('kaya', 'VBZ'), ('nonton', 'JJ'), ('bioskop', 'NN')]\n",
      "[('suara', 'NN'), ('jernih', 'NN'), ('dengerin', 'NN'), ('lagu', 'NN'), ('kaya', 'NN'), ('bass', 'NN'), ('keren', 'NN')]\n",
      "[('keren', 'NNS'), ('mode', 'VBP'), ('gelap', 'NN')]\n",
      "[('sistem', 'NN'), ('operasi', 'MD'), ('ragu', 'VB'), ('lot', 'NN'), ('main', 'JJ'), ('game', 'NN')]\n"
     ]
    },
    {
     "name": "stdout",
     "output_type": "stream",
     "text": [
      "[('spesifikasi', 'NN'), ('lancar', 'NN'), ('jalan', 'NN'), ('usaha', 'JJ'), ('online', 'NN')]\n",
      "[('spesifikasi', 'NN'), ('nyata', 'NNS'), ('neng', 'NN')]\n",
      "[('gapernah', 'NN'), ('lot', 'NN'), ('buka', 'IN'), ('tutup', 'NN'), ('aplikasi', 'NN')]\n",
      "[('gapernah', 'NN'), ('ragu', 'NN'), ('spesifikasi', 'NN')]\n",
      "[('udah', 'JJ'), ('gabisa', 'NN'), ('headset', 'NN'), ('colok', 'NN'), ('airpods', 'NNS'), ('bluetooth', 'DT')]\n",
      "[('series', 'NN'), ('series', 'NN'), ('udah', 'JJ'), ('face', 'NN'), ('id', 'NN'), ('suka', 'NN'), ('sidik', 'NN'), ('jari', 'NN')]\n",
      "[('asa', 'NN'), ('woy', 'NN'), ('ram', 'NN'), ('langsung', 'NN'), ('penuh', 'NN'), ('kaya', 'NN'), ('dikit', 'NN'), ('install', 'NN'), ('aplikasi', 'NN')]\n",
      "[('aneh', 'NN'), ('udah', 'JJ'), ('tombol', 'NN')]\n",
      "[('woy', 'NN'), ('lubang', 'NN'), ('headset', 'NN')]\n",
      "[('gin', 'NN'), ('deh', 'NN'), ('memori', 'FW'), ('cuman', 'JJ'), ('internal', 'JJ'), ('langsung', 'NN'), ('penuh', 'NN')]\n",
      "[('harga', 'NN'), ('mahal', 'NN'), ('dukung', 'NN'), ('g', 'NN'), ('biar', 'NN'), ('indonesia', 'NN'), ('udah', 'JJ'), ('masuk', 'NN'), ('g', 'NN'), ('ganti', 'NN')]\n",
      "[('spesifikasi', 'NN')]\n",
      "[('fitur', 'JJ'), ('rangin', 'NN'), ('ganti', 'NN'), ('gimana', 'NN')]\n",
      "[('memori', 'JJ'), ('ram', 'NN'), ('maju', 'NN'), ('mundur', 'NN'), ('beli', 'NN')]\n",
      "[('suka', 'NN'), ('ih', 'NN'), ('kamera', 'NN'), ('bagus', 'NN'), ('glowing', 'VBG'), ('glowing', 'VBG'), ('manja', 'NN')]\n",
      "[('bagus', 'NN'), ('kamera', 'NN'), ('cocok', 'NN'), ('hunting', 'VBG'), ('foto', 'NN')]\n",
      "[('mah', 'NN'), ('harga', 'NN'), ('sampe', 'NN'), ('juta', 'NN'), ('cocok', 'NN')]\n",
      "[('ram', 'NN'), ('gb', 'NN'), ('nyesel', 'NN'), ('beli', 'NN'), ('main', 'JJ'), ('codm', 'NN')]\n",
      "[('tim', 'NN'), ('bentuk', 'NN'), ('bagus', 'NN'), ('aestetik', 'NN'), ('kamera', 'NN'), ('bagus', 'NN'), ('kayak', 'NN'), ('sumsang', 'NN')]\n",
      "[('denger', 'NN'), ('denger', 'NN'), ('sumsang', 'VBD'), ('ledak', 'JJ'), ('iya', 'NN'), ('kualitas', 'NNS'), ('sumsang', 'VBD'), ('mah', 'JJ'), ('banding', 'VBG'), ('bagus', 'JJ'), ('liat', 'NN'), ('aspek', 'NN')]\n",
      "[('semenjak', 'NN'), ('gaya', 'NN'), ('dikit', 'NN'), ('langsung', 'NN'), ('cekrek', 'NN'), ('kamera', 'NN')]\n",
      "[('iya', 'NN'), ('kamera', 'NN'), ('suka', 'NN'), ('baterai', 'NN'), ('cepat', 'NN'), ('abis', 'NN')]\n",
      "[('nyangka', 'JJ'), ('dibeliin', 'NN'), ('bebeb', 'NN'), ('warna', 'NN'), ('ungu', 'JJ'), ('bagus', 'NN'), ('suka', 'NN'), ('deh', 'NN')]\n",
      "[('liat', 'NN'), ('spesifikasi', 'NN'), ('bagus', 'NN'), ('gin', 'NN'), ('mah', 'FW'), ('harga', 'NN'), ('normal', 'JJ')]\n",
      "[('masuk', 'NN'), ('fyp', 'NN'), ('tiktok', 'NN'), ('langsung', 'NN'), ('fyp', 'NN'), ('kamera', 'NN'), ('bagus', 'NN'), ('muncul', 'NN'), ('cantik', 'NN'), ('sejati', 'NN')]\n",
      "[('suka', 'NN'), ('harga', 'NN'), ('mahal', 'NN'), ('spesifikasi', 'NN'), ('bagus', 'NN')]\n",
      "[('tau', 'NN'), ('ngerekam', 'CC'), ('kamera', 'NN'), ('kamera', 'NN'), ('beli', 'NN'), ('deh', 'NN'), ('kamera', 'NN'), ('bagus', 'NN')]\n",
      "[('bahas', 'NN'), ('suka', 'NN'), ('baterai', 'NN'), ('awet', 'NN'), ('bagus', 'NN'), ('cocok', 'NN'), ('suka', 'NN'), ('main', 'JJ')]\n",
      "[('halah', 'NN'), ('anak', 'NN'), ('bagus', 'NN'), ('gue', 'NN'), ('suka', 'NN'), ('kamera', 'NN'), ('jelek', 'NN'), ('suka', 'NN'), ('harga', 'NN'), ('mahal', 'NN'), ('suka', 'NN'), ('bentuk', 'NN'), ('jelek', 'NN'), ('ngikutin', 'NN'), ('samsung', 'NN'), ('suka', 'NN'), ('baterai', 'NN'), ('jelek', 'NN'), ('spesifikasi', 'NN'), ('suka', 'NN'), ('deh', 'NN')]\n",
      "[('speakernya', 'NN'), ('jelek', 'NN'), ('ah', 'NN'), ('suka', 'NN'), ('kresek', 'NN'), ('kresek', 'NN')]\n",
      "[('ih', 'NN'), ('benci', 'NN'), ('kayak', 'NN'), ('gin', 'NN'), ('chargernya', 'NN'), ('udah', 'JJ'), ('rusak', 'NN')]\n",
      "[('mah', 'NN'), ('ngerawat', 'CC'), ('chargernya', 'NN'), ('bagus', 'NN'), ('tuh', 'NN'), ('awet', 'NN')]\n",
      "[('kelas', 'NNS'), ('kamera', 'VBP'), ('suka', 'JJ'), ('deh', 'NN'), ('youtuber', 'NN')]\n",
      "[('kamera', 'NN'), ('bagus', 'NN'), ('coy', 'NN'), ('bom', 'NN'), ('asa', 'NN'), ('ganteng', 'NN'), ('foto', 'NN')]\n",
      "[('kamera', 'NN'), ('kayak', 'NN'), ('samsung', 'NN'), ('cuih', 'NN')]\n",
      "[('gue', 'NN'), ('harga', 'NN'), ('lumayan', 'JJ'), ('mahal', 'NN'), ('sesuai', 'NN'), ('spesifikasi', 'NN'), ('bagus', 'NN')]\n",
      "[('layar', 'NN'), ('kamera', 'NN'), ('bagus', 'NN'), ('gagal', 'JJ'), ('artis', 'NN'), ('tiktok', 'NN'), ('deh', 'NN'), ('mah', 'NN'), ('dasar', 'NN')]\n",
      "[('bun', 'NN'), ('harga', 'NN')]\n",
      "[('baterai', 'NN'), ('sekarat', 'NN'), ('baterai', 'NN'), ('sekarat', 'NN'), ('mati', 'NN'), ('cepat', 'NN'), ('mati', 'NN'), ('cepat', 'NN')]\n",
      "[('baring', 'VBG'), ('sentak', 'NN'), ('tertawa', 'NN'), ('tertawa', 'NN'), ('air', 'NN'), ('mata', 'NNS'), ('bodoh', 'VBP'), ('harga', 'NN'), ('beli', 'NN')]\n",
      "[('anjak', 'NN'), ('bangkrut', 'NN'), ('spesifikasi', 'NN'), ('bintang', 'NN'), ('jatuh', 'NN'), ('mati', 'NN'), ('cepat', 'NN')]\n",
      "[('speaker', 'NN'), ('gonggong', 'NN'), ('bak', 'NN'), ('suara', 'NN'), ('anjing', 'VBG'), ('bangsat', 'NN')]\n",
      "[('bun', 'NN'), ('erti', 'NN'), ('harga', 'NN'), ('mahal', 'NN'), ('renang', 'NN'), ('kepala', 'NN')]\n",
      "[('pakai', 'NN'), ('susah', 'NN'), ('mati', 'NN'), ('ui', 'JJ'), ('ux', 'JJ'), ('ganti', 'NN'), ('ah', 'NN')]\n",
      "[('pakai', 'NN'), ('lot', 'NN'), ('mati', 'FW'), ('spesifikasi', 'NN'), ('parah', 'NN')]\n",
      "[('kau', 'NN'), ('fitur', 'NN'), ('banting', 'NN'), ('kampret', 'NN')]\n",
      "[('kau', 'NN'), ('kasat', 'VBD'), ('masang', 'JJ'), ('harga', 'NN'), ('mahal', 'NN'), ('ngotak', 'NN')]\n",
      "[('pagi', 'NN'), ('menang', 'NN'), ('harga', 'NN'), ('mahal', 'NN'), ('naudzubillah', 'NN')]\n",
      "[('mimpi', 'NN'), ('wujud', 'NN'), ('fitur', 'NN'), ('mimpi', 'NN'), ('buruk', 'NN')]\n",
      "[('pikir', 'NN'), ('mimpi', 'NN'), ('pakai', 'NN'), ('warna', 'NN'), ('pudar', 'NN'), ('saksi', 'NN'), ('ganti', 'NN'), ('jelek', 'NN')]\n",
      "[('ram', 'NN'), ('gin', 'NN'), ('serius', 'NN'), ('jelek', 'NN'), ('advan', 'NN')]\n",
      "[('harga', 'NN'), ('mahal', 'NN'), ('jemput', 'NN'), ('cewe', 'NN'), ('gang', 'NN')]\n",
      "[('serius', 'NN'), ('memori', 'FW'), ('eksternal', 'JJ'), ('ampun', 'NN'), ('buruk', 'NN')]\n",
      "[('dumbell', 'NN'), ('bicep', 'NN'), ('berat', 'NN'), ('ah', 'NN'), ('jelek', 'NN')]\n",
      "[('ukur', 'JJ'), ('kegedan', 'NN'), ('coy', 'NN'), ('masuk', 'NN'), ('saku', 'NN'), ('jelek', 'NN')]\n",
      "[('jaman', 'NN'), ('mah', 'NN'), ('pindai', 'NN'), ('sidik', 'NN'), ('jari', 'NN'), ('jelek', 'NN')]\n",
      "[('jaman', 'NN'), ('g', 'NN'), ('boss', 'IN'), ('bom', 'NN'), ('g', 'NN'), ('kuno', 'NN'), ('cacat', 'NN')]\n",
      "[('port', 'NN'), ('headset', 'NN'), ('jelek', 'NN'), ('walkman', 'NN')]\n",
      "[('kamera', 'NN'), ('penuh', 'NN'), ('palsu', 'NN'), ('tipu', 'NN'), ('munafik', 'NN'), ('calon', 'NN'), ('huni', 'NN'), ('neraka', 'NN'), ('bakar', 'NN')]\n",
      "[('cocok', 'NN'), ('foto', 'NN'), ('jarak', 'NN'), ('foto', 'NN'), ('udah', 'JJ'), ('kayak', 'NN'), ('hubung', 'NN')]\n",
      "[('lebay', 'NN'), ('kamera', 'NN'), ('gue', 'NN')]\n",
      "[('kamera', 'NN'), ('bagus', 'NN'), ('gelap', 'NN'), ('gan', 'NN')]\n",
      "[('bagus', 'NN'), ('bagus', 'NN'), ('warna', 'NN')]\n",
      "[('bagus', 'NN'), ('bagus', 'NN'), ('warna', 'NN')]\n",
      "[('bagus', 'NN'), ('bagus', 'NN'), ('suka', 'NN'), ('warna', 'NN')]\n",
      "[('bentuk', 'NN'), ('bagus', 'NN'), ('suka', 'NN'), ('bentuk', 'NN')]\n",
      "[('speaker', 'NN'), ('mantap', 'NN'), ('coy', 'NN'), ('suara', 'NN'), ('jernih', 'NN'), ('keren', 'NNS')]\n",
      "[('layar', 'NN'), ('jernih', 'NN'), ('cocok', 'VBP'), ('nonton', 'NN'), ('anime', 'NN')]\n",
      "[('suka', 'NN'), ('deh', 'NN'), ('warna', 'NN')]\n",
      "[('masuk', 'NN'), ('murah', 'NN'), ('harga', 'NN'), ('mah', 'NN'), ('sesuai', 'NN'), ('kualitas', 'NNS')]\n",
      "[('kualitas', 'NNS'), ('bagus', 'VBP'), ('harga', 'NN'), ('sesuai', 'NN')]\n",
      "[('murah', 'NN'), ('kualitas', 'NNS'), ('oke', 'VBD'), ('harga', 'JJ'), ('pas', 'NN')]\n",
      "[('harga', 'NN'), ('udah', 'JJ'), ('pas', 'NN')]\n",
      "[('murah', 'NN'), ('harga', 'NN'), ('nabung', 'NN'), ('udah', 'JJ'), ('kebel', 'NN')]\n",
      "[('kualitas', 'NNS'), ('oke', 'VBD'), ('harga', 'JJ'), ('pas', 'NN'), ('mantap', 'NN')]\n",
      "[('cari', 'NN'), ('kualitas', 'NNS'), ('harga', 'VBP'), ('jangkau', 'NN')]\n",
      "[('buru', 'NN'), ('beli', 'NN'), ('mumpung', 'NN'), ('harga', 'NN'), ('murah', 'NN')]\n",
      "[('pas', 'NN'), ('harga', 'NN'), ('kualitas', 'NNS')]\n",
      "[('ram', 'NN'), ('bagus', 'NN'), ('cpu', 'NN'), ('bagus', 'NN'), ('mantap', 'NN')]\n",
      "[('cpu', 'NN'), ('bagus', 'NN')]\n",
      "[('spesifikasi', 'NN'), ('bagus', 'NN'), ('enak', 'NN'), ('pakenya', 'NN')]\n",
      "[('butuh', 'NN'), ('spek', 'NN'), ('bagus', 'NN')]\n",
      "[('spek', 'NN'), ('bagus', 'NN')]\n",
      "[('spesifikasi', 'NN'), ('bagus', 'NN')]\n",
      "[('speknya', 'NN'), ('bagus', 'NN')]\n",
      "[('speknya', 'NN'), ('bagus', 'NN'), ('samsung', 'NN')]\n",
      "[('speknya', 'NN'), ('bagus', 'NN'), ('kayak', 'NN')]\n",
      "[('kamera', 'NN'), ('burem', 'NN'), ('dslr', 'NN')]\n",
      "[('kamera', 'NN'), ('susah', 'NN'), ('fokus', 'NN'), ('jelek', 'NN'), ('ah', 'NN')]\n",
      "[('beli', 'JJ'), ('kamera', 'NN'), ('nyata', 'NNS'), ('kecewa', 'NN')]\n",
      "[('kamera', 'NN'), ('mah', 'NN'), ('jelek', 'NN')]\n",
      "[('bagus', 'NN'), ('baterai', 'NN'), ('awet', 'NN')]\n",
      "[('baterai', 'NN'), ('awet', 'NN'), ('bagus', 'NN')]\n",
      "[('baterai', 'NN'), ('awet', 'NN'), ('kayak', 'NN'), ('baterai', 'NN'), ('abc', 'NN')]\n",
      "[('baterai', 'NN'), ('bagus', 'NN')]\n",
      "[('baterai', 'NN')]\n",
      "[('baterai', 'NN'), ('bagus', 'NN'), ('awet', 'NN')]\n",
      "[('baterai', 'NN'), ('awet', 'NN'), ('nan', 'NN'), ('bagus', 'NN')]\n",
      "[('baterai', 'NN')]\n",
      "[('baterai', 'NN'), ('ampas', 'NN'), ('cepat', 'NN'), ('abis', 'NN')]\n",
      "[('baterai', 'NN'), ('kayak', 'NN'), ('tai', 'NN')]\n",
      "[('baterai', 'NN'), ('kayak', 'NN'), ('anjing', 'VBG')]\n",
      "[('baterai', 'NN'), ('bangsat', 'VBD'), ('anjing', 'VBG'), ('tai', 'NN')]\n",
      "[('baterai', 'NN'), ('boros', 'NNS'), ('bangsat', 'VBD')]\n",
      "[('ukur', 'JJ'), ('ideal', 'NN'), ('enak', 'NN'), ('pas', 'NN'), ('genggam', 'NN')]\n",
      "[('bagus', 'NN'), ('warna', 'NN')]\n",
      "[('layar', 'NN'), ('enak', 'NN'), ('nyaman', 'JJ'), ('nonton', 'NN'), ('film', 'NN'), ('youtube', 'NN')]\n",
      "[('main', 'JJ'), ('oke', 'VBD'), ('desain', 'NN')]\n",
      "[('desain', 'NN'), ('bagus', 'NN'), ('pantes', 'VBZ'), ('minat', 'NNS')]\n",
      "[('warna', 'NN'), ('hitam', 'NN'), ('cool', 'NN')]\n",
      "[('bilang', 'NN'), ('ideal', 'NN'), ('desain', 'NN'), ('fitur', 'NN')]\n",
      "[('pilih', 'NN'), ('warna', 'WRB'), ('tarik', 'NN'), ('bingung', 'NN'), ('pilih', 'NN')]\n",
      "[('desain', 'NN'), ('premium', 'NN'), ('suka', 'NN')]\n",
      "[('bentuk', 'NN'), ('desain', 'NN'), ('bagus', 'NN'), ('simpel', 'NN'), ('keren', 'NN')]\n",
      "[('lumayan', 'JJ'), ('berat', 'NN'), ('main', 'JJ'), ('main', 'JJ')]\n",
      "[('tuh', 'NN'), ('berat', 'NN')]\n",
      "[('layar', 'NN')]\n",
      "[('gede', 'NN'), ('layar', 'NN')]\n",
      "[('ukur', 'JJ'), ('masuk', 'NN'), ('saku', 'NN')]\n",
      "[('sesal', 'NN'), ('beli', 'VBZ'), ('super', 'JJ'), ('berat', 'NN'), ('tangan', 'NN')]\n",
      "[('desain', 'NN'), ('kilap', 'NN'), ('gampang', 'NN'), ('liat', 'NN'), ('lecet', 'NN')]\n",
      "[('poni', 'NN'), ('layar', 'NN'), ('ganggu', 'NN')]\n",
      "[('suka', 'NN'), ('android', 'NN')]\n",
      "[('tuh', 'NN'), ('eksklusif', 'NN'), ('susah', 'NN'), ('nyambung', 'NN'), ('kemanamana', 'VBP'), ('kaya', 'NN'), ('android', 'NN')]\n",
      "[('wajar', 'NN'), ('harga', 'NN'), ('gin', 'NN'), ('bagus', 'NN')]\n",
      "[('sesal', 'NN'), ('beli', 'VBZ'), ('harga', 'JJ'), ('segitu', 'NN')]\n",
      "[('harga', 'NN'), ('wajar', 'NN'), ('itung', 'NN'), ('itung', 'NN'), ('investasi', 'NN')]\n",
      "[('asli', 'NN'), ('sesuai', 'NN'), ('harga', 'NN'), ('mantap', 'NN')]\n",
      "[('harga', 'NN'), ('timpal', 'JJ'), ('pakai', 'NN'), ('jangka', 'NN')]\n",
      "[('murah', 'NN')]\n",
      "[('harga', 'NN'), ('jangkau', 'NN')]\n",
      "[('gue', 'NN'), ('beli', 'NN'), ('isi', 'NN'), ('dompet', 'NN'), ('gue', 'NN'), ('aman', 'NN')]\n",
      "[('puas', 'NN'), ('harga', 'NN'), ('gin', 'NN'), ('bisnis', 'NN'), ('lot', 'NN')]\n",
      "[('gue', 'NN'), ('harga', 'NN'), ('tuh', 'NN'), ('sesuai', 'NN'), ('kualitas', 'NNS')]\n",
      "[('harga', 'NN'), ('lumayan', 'JJ'), ('mahal', 'NN'), ('rakyat', 'NN'), ('jelata', 'NN'), ('kaya', 'NN')]\n",
      "[('mahal', 'NN'), ('harga', 'NN'), ('gin', 'NN')]\n"
     ]
    },
    {
     "name": "stdout",
     "output_type": "stream",
     "text": [
      "[('harga', 'NN'), ('mahal', 'NN'), ('varian', 'JJ'), ('murah', 'NN')]\n",
      "[('sanggup', 'NN'), ('beli', 'NN'), ('liat', 'NN'), ('ulas', 'NNS')]\n",
      "[('nabung', 'RB'), ('abad', 'NN'), ('beli', 'NN')]\n",
      "[('harga', 'NN'), ('sulit', 'NN'), ('terima', 'NN'), ('akal', 'NN')]\n",
      "[('mahal', 'NN'), ('kualitas', 'NNS'), ('beda', 'VBP')]\n",
      "[('harga', 'NN'), ('mahal', 'NN'), ('ciut', 'NN'), ('beli', 'NN')]\n",
      "[('salah', 'NN'), ('lemah', 'NN'), ('harga', 'NN'), ('mahal', 'NN')]\n",
      "[('coba', 'NN'), ('jual', 'JJ'), ('ginjal', 'NN'), ('boba', 'NN'), ('alias', 'NN')]\n",
      "[('speknya', 'NN'), ('mantap', 'NN'), ('main', 'JJ'), ('pubg', 'NN'), ('lot', 'NN')]\n",
      "[('sistem', 'NN'), ('operasi', 'MD'), ('bagus', 'VB')]\n",
      "[('speknya', 'NN'), ('bagus', 'NN'), ('enak', 'NN'), ('main', 'JJ'), ('game', 'NN'), ('kerja', 'NN')]\n",
      "[('suka', 'JJ'), ('ios', 'NNS'), ('premium', 'NN'), ('kualitas', 'NNS')]\n",
      "[('puas', 'NN'), ('sistem', 'NN'), ('operasi', 'JJ'), ('kencang', 'NN'), ('bebas', 'NN'), ('hambat', 'NN')]\n",
      "[('operasi', 'NN'), ('lancar', 'NN'), ('bantu', 'NN'), ('bisnis', 'NN')]\n",
      "[('sistem', 'NN'), ('operasi', 'MD'), ('nyaman', 'VB'), ('lot', 'NN')]\n",
      "[('lancar', 'NN'), ('jaya', 'NN'), ('nyaman', 'NN'), ('lot', 'NN')]\n",
      "[('performa', 'NN'), ('mumpuni', 'NNS'), ('ragu', 'VBP')]\n",
      "[('spesifikasi', 'NN'), ('unggul', 'JJ'), ('segi', 'NN'), ('performa', 'NN')]\n",
      "[('kecewa', 'NN'), ('pindai', 'NN'), ('sidik', 'NN'), ('jari', 'NN')]\n",
      "[('ram', 'NN'), ('kapasitas', 'NNS')]\n",
      "[('sayang', 'NN'), ('kaga', 'NN'), ('memori', 'VBD'), ('eksternal', 'JJ')]\n",
      "[('kecewa', 'NN'), ('fitur', 'NN'), ('hilang', 'NN')]\n",
      "[('upgrade', 'JJ'), ('storage', 'NN'), ('icloud', 'NN'), ('bayar', 'NN')]\n",
      "[('sd', 'JJ'), ('card', 'NN'), ('kaya', 'NN'), ('android', 'NN')]\n",
      "[('ribet', 'NN'), ('splitter', 'NN'), ('gabisa', 'JJ'), ('charge', 'NN'), ('dengerin', 'NN'), ('lagu', 'NN')]\n",
      "[('pindai', 'NN'), ('sidik', 'NN'), ('jari', 'NN'), ('diilangin', 'NN'), ('gin', 'NN'), ('masker', 'NN'), ('mulu', 'NN'), ('ribet', 'NN'), ('pindai', 'NN'), ('wajah', 'NN')]\n",
      "[('tuh', 'NN'), ('ukur', 'JJ'), ('ram', 'NN'), ('gede', 'NN'), ('semut', 'NN')]\n",
      "[('tibatiba', 'NN'), ('suruh', 'NN'), ('install', 'NN'), ('aplikasi', 'NN'), ('absen', 'IN'), ('sekolah', 'JJ'), ('gabisa', 'NN'), ('ram', 'NN')]\n",
      "[('kamera', 'NN'), ('cepat', 'NN'), ('autofokus', 'NN'), ('keren', 'NNS'), ('deh', 'VBP')]\n",
      "[('hasil', 'NN'), ('foto', 'NN'), ('bagus', 'NN'), ('versi', 'NN')]\n",
      "[('keren', 'NNS'), ('deh', 'VBP'), ('kamera', 'NN'), ('minim', 'NN'), ('cahaya', 'JJ'), ('tetep', 'NN'), ('muas', 'NN'), ('hasil', 'NN'), ('foto', 'NN'), ('terang', 'NN')]\n",
      "[('video', 'NN'), ('keren', 'NNS'), ('kamera', 'NN')]\n",
      "[('hasil', 'NN'), ('foto', 'NN'), ('kamera', 'NN'), ('bagus', 'NN'), ('kaya', 'NN'), ('kamera', 'NN'), ('dslr', 'NN')]\n",
      "[('kamera', 'NN'), ('keren', 'NNS'), ('abis', 'VBP')]\n",
      "[('foto', 'NN'), ('jarak', 'NN'), ('mantap', 'NN'), ('burem', 'NN')]\n",
      "[('kamera', 'NN'), ('ragu', 'NN')]\n",
      "[('hasil', 'NN'), ('foto', 'NN'), ('udah', 'JJ'), ('kaya', 'NN'), ('kamera', 'NN'), ('level', 'NN'), ('profesional', 'NN')]\n",
      "[('kamera', 'NN'), ('super', 'NN'), ('bagus', 'NN'), ('hasil', 'NN'), ('kaya', 'VBD'), ('lihat', 'WP'), ('mata', 'NN'), ('langsung', 'NN')]\n",
      "[('foto', 'NN'), ('jarak', 'NN'), ('bagus', 'NN'), ('lensa', 'NN'), ('kamera', 'NN')]\n",
      "[('ngeluh', 'JJ'), ('bentuk', 'NN'), ('kamera', 'NN'), ('kaya', 'NN'), ('minum', 'NN'), ('bubble', 'JJ'), ('milk', 'NN'), ('tea', 'NN')]\n",
      "[('ribet', 'NN'), ('foto', 'NN'), ('filter', 'NN'), ('hasil', 'NN'), ('realistis', 'NN'), ('gue', 'NN'), ('liat', 'NN'), ('jelek', 'NN')]\n",
      "[('gampang', 'NN'), ('lecet', 'NN'), ('kamera', 'NN')]\n",
      "[('kamera', 'NN'), ('ip', 'NN'), ('tuh', 'NN'), ('hasil', 'NN'), ('foto', 'NN'), ('tuh', 'NN'), ('warna', 'NN'), ('kuning', 'VBG'), ('aneh', 'NN')]\n",
      "[('hasil', 'NN'), ('foto', 'NN'), ('bagus', 'NN'), ('cahaya', 'NN'), ('matahari', 'NN')]\n",
      "[('bagus', 'NN'), ('kamera', 'NN'), ('samsung', 'NN'), ('kemanamana', 'NN')]\n",
      "[('kamera', 'NN'), ('swafoto', 'NN'), ('mantap', 'NN'), ('autofokusnya', 'NN')]\n",
      "[('tingkat', 'NN'), ('eksposur', 'NN'), ('kamera', 'NN'), ('ip', 'NN'), ('sempurna', 'NN'), ('banding', 'NN'), ('samsung', 'NN')]\n",
      "[('foto', 'NN'), ('dalem', 'NN'), ('ruang', 'NN'), ('hasil', 'NN'), ('mantap', 'NN')]\n",
      "[('mantap', 'NN'), ('deh', 'NN'), ('baterai', 'NN'), ('hemat', 'NN'), ('versi', 'NN')]\n",
      "[('pas', 'NN'), ('tuh', 'NN'), ('baterai', 'NN'), ('hemat', 'NN'), ('tahan', 'NN')]\n",
      "[('baterai', 'NN'), ('tahan', 'NN')]\n",
      "[('baterai', 'NN'), ('gue', 'NN'), ('aman', 'NN'), ('puluh', 'NN'), ('jam', 'NN'), ('nonton', 'NN'), ('video', 'NN')]\n",
      "[('lumayan', 'JJ'), ('awet', 'NN'), ('baterenya', 'NN'), ('main', 'JJ'), ('pubg', 'NN'), ('jam', 'NN'), ('jam', 'NN')]\n",
      "[('gue', 'NN'), ('tepuk', 'NN'), ('tangan', 'NN'), ('batere', 'RB'), ('tingkat', 'JJ'), ('banding', 'NN'), ('versi', 'NN')]\n",
      "[('baterenya', 'NN'), ('buruk', 'NN'), ('orangorang', 'NN'), ('elu', 'VBP'), ('pakenya', 'NN'), ('jorok', 'NN')]\n",
      "[('enak', 'NN'), ('ip', 'NN'), ('tuh', 'NN'), ('pas', 'JJ'), ('charge', 'NN'), ('lumayan', 'JJ'), ('cepat', 'NN'), ('penuh', 'NN')]\n",
      "[('charge', 'NN'), ('charger', 'NN'), ('sesuai', 'JJ'), ('mah', 'NN'), ('cepat', 'NN'), ('penuh', 'NN'), ('koo', 'NN'), ('baterenya', 'NN')]\n",
      "[('baterenya', 'NN'), ('awet', 'NN'), ('cepat', 'NN'), ('kembung', 'NN')]\n",
      "[('charge', 'NN'), ('keburu', 'NN'), ('gajah', 'NN'), ('telur', 'NN')]\n",
      "[('haji', 'NN'), ('yaa', 'NN'), ('nunggu', 'JJ'), ('baterai', 'NN'), ('penuh', 'NN')]\n",
      "[('cepat', 'NN'), ('habis', 'NN'), ('baterai', 'NN')]\n",
      "[('baterai', 'NN'), ('awet', 'NN')]\n",
      "[('isi', 'NN'), ('baterai', 'NN'), ('golong', 'NN')]\n",
      "[('baterai', 'NN'), ('copot', 'NN')]\n",
      "[('kecewa', 'NN'), ('baterai', 'NN'), ('awet', 'NN')]\n",
      "[('batere', 'RB'), ('tuh', 'JJ'), ('jelek', 'NN')]\n",
      "[('batere', 'RB'), ('awet', 'JJ'), ('samsung', 'NN'), ('covid', 'NN'), ('main', 'JJ'), ('boros', 'NN')]\n",
      "[('awet', 'JJ'), ('gue', 'NN'), ('sampe', 'NN'), ('charger', 'NN')]\n",
      "[('bagus', 'NN'), ('handphone', 'NN'), ('nungguin', 'NN')]\n",
      "[('nungguin', 'JJ'), ('ip', 'NN'), ('rilis', 'NN'), ('keren', 'NNS'), ('nyata', 'VBP')]\n",
      "[('ukur', 'JJ'), ('ideal', 'NN'), ('gede', 'NN')]\n",
      "[('pilih', 'NN'), ('warna', 'WRB'), ('gemes', 'NNS'), ('gemes', 'NNS')]\n",
      "[('mewah', 'NN'), ('lebay', 'NN'), ('ip', 'NN'), ('asik', 'NN')]\n",
      "[('love', 'NN')]\n",
      "[('good', 'JJ'), ('gaming', 'NN')]\n",
      "[('alih', 'NN'), ('ip', 'NN'), ('bye', 'NN'), ('handphone', 'NN')]\n",
      "[('baca', 'NN'), ('baca', 'NN'), ('review', 'NN'), ('hm', 'NN'), ('lumayan', 'JJ'), ('tarik', 'NN'), ('beli', 'NN')]\n",
      "[('suka', 'NN'), ('warna', 'NN'), ('hijau', 'NN')]\n",
      "[('suka', 'NN'), ('ah', 'NN'), ('beli', 'NN'), ('merk', 'NN')]\n",
      "[('desain', 'NN'), ('kaya', 'NN'), ('bosan', 'NN')]\n",
      "[('suka', 'NN'), ('desain', 'NN'), ('gede', 'NN'), ('slim', 'NN')]\n",
      "[('apasih', 'NNS'), ('make', 'VBP'), ('sistem', 'NN'), ('operasi', 'JJ'), ('ribet', 'NN'), ('pakai', 'NN')]\n",
      "[('upgradenya', 'JJ'), ('banding', 'VBG'), ('produk', 'NN'), ('terllau', 'NN'), ('banding', 'NN')]\n",
      "[('yaampun', 'NN'), ('ip', 'NN'), ('charger', 'NN'), ('earphone', 'NN'), ('hft', 'NN')]\n",
      "[('charger', 'NN'), ('earphonenya', 'CC'), ('include', 'VBP'), ('spesifikasi', 'JJ'), ('mantep', 'NNS'), ('part', 'NN')]\n",
      "[('tarik', 'NN'), ('beli', 'NN'), ('deh', 'NN')]\n",
      "[('ip', 'JJ'), ('gue', 'NN'), ('bilang', 'NN'), ('waw', 'NN')]\n",
      "[('minat', 'NN'), ('beli', 'NN'), ('jelek', 'NN'), ('gue', 'NN')]\n",
      "[('harga', 'JJ'), ('affordabe', 'NN'), ('experience', 'NN')]\n",
      "[('harga', 'NN'), ('oke', 'VBD'), ('spesifikasi', 'JJ'), ('kaya', 'NN'), ('gin', 'NN')]\n",
      "[('jangkau', 'NN'), ('gue', 'NN'), ('harga', 'NN'), ('sesuai', 'NN'), ('spesifikasi', 'NN')]\n",
      "[('harga', 'NN'), ('rupa', 'NN'), ('coi', 'NN'), ('bagus', 'NN'), ('produk', 'NN'), ('banding', 'VBG'), ('harga', 'NN'), ('segitu', 'NN')]\n",
      "[('harga', 'NN'), ('ip', 'NN'), ('sesuai', 'NN'), ('handphone', 'NN')]\n",
      "[('harga', 'NN'), ('mahal', 'NN'), ('utnuk', 'JJ'), ('kualitas', 'NNS'), ('bagus', 'VBP'), ('bilang', 'NN'), ('mahal', 'NN'), ('beli', 'NN')]\n",
      "[('harga', 'NN'), ('segitu', 'NN'), ('kualitas', 'NNS'), ('super', 'VBP'), ('banding', 'VBG')]\n",
      "[('hitung', 'NN'), ('harga', 'NN'), ('murah', 'NN'), ('produk', 'NN'), ('bagus', 'NN')]\n",
      "[('harga', 'NN'), ('sesuai', 'NN'), ('spesifikasi', 'NN'), ('produk', 'NN')]\n",
      "[('harga', 'NN'), ('sesuai', 'NN'), ('nyesel', 'NN'), ('gais', 'NN')]\n",
      "[('mahal', 'NN'), ('ip', 'NN'), ('produk', 'NN'), ('kaya', 'NN'), ('murah', 'NN')]\n",
      "[('banding', 'VBG'), ('harga', 'NN')]\n",
      "[('apasih', 'NN'), ('beli', 'NN'), ('mahal', 'NN'), ('mahal', 'NN'), ('produk', 'NN'), ('murah', 'NN'), ('bagus', 'NN')]\n",
      "[('mahal', 'NN'), ('handphone', 'NN')]\n",
      "[('minat', 'NN'), ('beli', 'NN'), ('ip', 'NN'), ('harga', 'NN'), ('langit', 'NN')]\n",
      "[('harga', 'NN'), ('produk', 'NN'), ('tuh', 'NN'), ('mahal', 'NN'), ('mahal', 'NN')]\n",
      "[('harga', 'NN'), ('affordable', 'JJ'), ('sorry', 'NN')]\n",
      "[('harga', 'NN'), ('gabisa', 'NN'), ('murah', 'NN'), ('bagus', 'NN'), ('apasih', 'NN'), ('harga', 'NN'), ('segitu', 'NN')]\n",
      "[('mahal', 'NN'), ('harga', 'NN'), ('murah', 'NN')]\n",
      "[('beli', 'JJ'), ('produk', 'NN'), ('harga', 'NN'), ('jangkau', 'NN'), ('kualitas', 'NNS'), ('kalah', 'VBP')]\n",
      "[('keren', 'NNS'), ('ip', 'VBP'), ('ios', 'NNS')]\n",
      "[('spesifikasi', 'NN'), ('asik', 'NN'), ('nyaman', 'NN'), ('ngegame', 'NN')]\n",
      "[('chipset', 'NN'), ('ip', 'NN'), ('performa', 'NN'), ('enteng', 'NN'), ('banding', 'NN')]\n",
      "[('processor', 'NN'), ('android', 'NN')]\n",
      "[('wahh', 'NN'), ('mantap', 'NN'), ('spesifikasi', 'NN')]\n",
      "[('heran', 'NN'), ('mantap', 'NN'), ('iosnya', 'NNS'), ('make', 'VBP')]\n",
      "[('spesifikasi', 'NN'), ('mantap', 'NN'), ('nyelam', 'JJ'), ('aman', 'NN')]\n",
      "[('suka', 'NN'), ('spesifikasi', 'NN'), ('nyesel', 'NN'), ('beli', 'NN')]\n",
      "[('performa', 'NN'), ('mantap', 'NN'), ('ios', 'NNS'), ('produk', 'VBP'), ('ip', 'NN')]\n",
      "[('nandingin', 'NN'), ('processor', 'NN')]\n",
      "[('pilih', 'NN'), ('ram', 'NN'), ('dikit', 'NN'), ('variasi', 'NN')]\n",
      "[('ram', 'NN'), ('gb', 'NN'), ('ken', 'NN')]\n",
      "[('spesifikasi', 'NN'), ('gue', 'NN'), ('harga', 'NN'), ('mahal', 'NN')]\n",
      "[('fitur', 'NN'), ('nfc', 'CC'), ('harga', 'NN'), ('mahal', 'NN'), ('fitur', 'NN'), ('tren', 'NN')]\n",
      "[('dukung', 'NN'), ('g', 'NN'), ('jelek', 'NN')]\n",
      "[('spesifikasi', 'NN'), ('beda', 'NN'), ('produk', 'NN'), ('cenderung', 'NN'), ('jelek', 'NN')]\n",
      "[('fitur', 'NN'), ('usb', 'JJ'), ('type', 'NN'), ('c', 'NN'), ('huh', 'NN'), ('jelek', 'NN')]\n",
      "[('bnayak', 'NN'), ('spesifikasi', 'NN'), ('oke', 'VBD')]\n",
      "[('date', 'NN'), ('dukung', 'NN'), ('g', 'NN')]\n",
      "[('g', 'NN'), ('coy', 'NN'), ('gausah', 'NN'), ('beli', 'NN'), ('jelek', 'NN')]\n",
      "[('ancur', 'JJ'), ('ip', 'NN'), ('kamera', 'NN'), ('auto', 'NN'), ('mulus', 'NN')]\n",
      "[('suka', 'JJ'), ('hasil', 'NN'), ('ambil', 'NN'), ('kamera', 'NN')]\n",
      "[('fitur', 'NN'), ('autofokusnya', 'NN'), ('bagus', 'NN'), ('cuy', 'NN')]\n",
      "[('ip', 'NN'), ('kamera', 'NN'), ('suka', 'NN'), ('hasil', 'NN'), ('bagus', 'NN')]\n",
      "[('alas', 'NNS'), ('gue', 'VBP'), ('cinta', 'JJ'), ('ip', 'NN'), ('kamera', 'NN'), ('waw', 'NN'), ('amazing', 'VBG')]\n",
      "[('fitur', 'NN'), ('night', 'NN'), ('mode', 'NN'), ('lumayan', 'NN'), ('jepret', 'NN'), ('jepret', 'NN'), ('malem', 'NN'), ('malem', 'NN')]\n"
     ]
    },
    {
     "name": "stdout",
     "output_type": "stream",
     "text": [
      "[('hasil', 'NN'), ('foto', 'NN'), ('bagus', 'NN'), ('dukung', 'NN'), ('estetik', 'VBP'), ('gue', 'NN')]\n",
      "[('kamera', 'NN'), ('oke', 'VBD'), ('foto', 'JJ'), ('video', 'NN'), ('bagus', 'NN')]\n",
      "[('semenjak', 'NN'), ('ip', 'NN'), ('suka', 'NN'), ('foto', 'NN'), ('deh', 'NN'), ('kamera', 'NN'), ('bagus', 'NN')]\n",
      "[('salah', 'NN'), ('beli', 'NN'), ('kamera', 'NN'), ('gue', 'NN'), ('suka', 'NN')]\n",
      "[('jelek', 'NN'), ('fitur', 'NN'), ('night', 'NN'), ('mode', 'NN'), ('kamera', 'NN'), ('noise', 'NN')]\n",
      "[('kamera', 'NN'), ('jelek', 'NN'), ('ngezoom', 'NN'), ('pecah', 'NN')]\n",
      "[('banding', 'VBG'), ('kamera', 'NN'), ('mending', 'VBG'), ('beli', 'JJ'), ('produk', 'NN')]\n",
      "[('kamera', 'NN'), ('muas', 'NN')]\n",
      "[('ah', 'NN'), ('kamera', 'NN'), ('banding', 'NN')]\n",
      "[('kamera', 'NN'), ('bagus', 'NN'), ('moto', 'NN'), ('malam', 'NN'), ('hasil', 'NN'), ('jelek', 'NN')]\n",
      "[('produk', 'NN'), ('kamera', 'NN'), ('bagus', 'NN'), ('ip', 'NN'), ('banding', 'NN')]\n",
      "[('kamera', 'NN'), ('foto', 'NN'), ('indoor', 'JJ'), ('cahaya', 'NN'), ('bad', 'JJ')]\n",
      "[('noise', 'NN'), ('asli', 'NN'), ('foto', 'NN'), ('indoor', 'NN'), ('malem', 'NN'), ('malem', 'NN'), ('jelek', 'NN')]\n",
      "[('kamera', 'NN'), ('jelek', 'NN'), ('handphone', 'NN'), ('murah', 'NN'), ('kamera', 'NN'), ('good', 'JJ')]\n",
      "[('baterai', 'RB'), ('good', 'JJ'), ('tahan', 'NN')]\n",
      "[('lumayan', 'JJ'), ('kuat', 'NN'), ('baterai', 'NN'), ('intensitas', 'NNS'), ('pakai', 'VBP')]\n",
      "[('aman', 'JJ'), ('baterai', 'NN'), ('teknologi', 'NN'), ('wireless', 'NN'), ('charge', 'NN')]\n",
      "[('chipset', 'NN'), ('mantap', 'NN'), ('hemat', 'NN'), ('baterai', 'NN')]\n",
      "[('chipset', 'NN'), ('kuat', 'NN'), ('cepat', 'NN'), ('hemat', 'NN'), ('baterai', 'NN')]\n",
      "[('udah', 'JJ'), ('kembang', 'NN'), ('teknologi', 'NN'), ('khusus', 'NN'), ('tekan', 'NN'), ('konsumsi', 'NN'), ('baterai', 'NN'), ('hemat', 'NN'), ('produk', 'NN')]\n",
      "[('ip', 'NN'), ('teknologi', 'NN'), ('tekan', 'NN'), ('daya', 'NN'), ('sistem', 'NN'), ('kapasitas', 'VBD'), ('baterai', 'JJR'), ('tahan', 'NN'), ('lho', 'NN')]\n",
      "[('banding', 'VBG'), ('produk', 'NN'), ('produk', 'NN'), ('baterai', 'NN'), ('tahan', 'NN')]\n",
      "[('ngembangin', 'NN'), ('teknologi', 'NN'), ('baterai', 'NN'), ('hemat', 'NN')]\n",
      "[('udah', 'JJ'), ('coba', 'NN'), ('handphone', 'NN'), ('charge', 'NN'), ('waw', 'JJ'), ('konsumsi', 'NN'), ('daya', 'NN')]\n",
      "[('boros', 'NNS'), ('baterai', 'VBP'), ('kudu', 'JJ'), ('ngecas', 'NN'), ('kali', 'NN')]\n",
      "[('bawa', 'NN'), ('powerbank', 'NN'), ('mah', 'NN'), ('baterai', 'NN'), ('oke', 'VBD')]\n",
      "[('tuh', 'NN'), ('baterai', 'NN'), ('tahan', 'NN')]\n",
      "[('baterai', 'NN'), ('boros', 'NNS'), ('cocok', 'VBP'), ('orang', 'JJ'), ('kerja', 'NN'), ('handphone', 'NN')]\n",
      "[('charge', 'NN'), ('butuh', 'NN'), ('watu', 'NN')]\n",
      "[('keren', 'NNS'), ('charger', 'VBP'), ('bawa', 'JJ'), ('cepat', 'NN'), ('charger', 'NN')]\n",
      "[('yaelah', 'NN'), ('cepat', 'NN'), ('charger', 'NN'), ('charge', 'NN'), ('charger', 'NN'), ('bawa', 'NN'), ('kudu', 'NN'), ('beli', 'NN'), ('charger', 'NN')]\n",
      "[('butuh', 'NN'), ('waku', 'WRB'), ('charge', 'NN'), ('charger', 'NN'), ('bawa', 'NN'), ('daya', 'NN')]\n",
      "[('udah', 'JJ'), ('mahal', 'NN'), ('chargernya', 'NN'), ('cepat', 'NN'), ('charger', 'NN'), ('kecewa', 'NN')]\n",
      "[('kapasitas', 'NNS'), ('baterai', 'VBP'), ('kalah', 'JJ'), ('banding', 'NN'), ('produk', 'NN'), ('murah', 'NN')]\n"
     ]
    }
   ],
   "source": [
    "data_postag = postag(dataset['Tweet_Parsed'])"
   ]
  },
  {
   "cell_type": "code",
   "execution_count": null,
   "metadata": {},
   "outputs": [],
   "source": []
  }
 ],
 "metadata": {
  "kernelspec": {
   "display_name": "Python 3",
   "language": "python",
   "name": "python3"
  },
  "language_info": {
   "codemirror_mode": {
    "name": "ipython",
    "version": 3
   },
   "file_extension": ".py",
   "mimetype": "text/x-python",
   "name": "python",
   "nbconvert_exporter": "python",
   "pygments_lexer": "ipython3",
   "version": "3.7.2"
  }
 },
 "nbformat": 4,
 "nbformat_minor": 4
}
