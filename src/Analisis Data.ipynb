{
 "cells": [
  {
   "cell_type": "code",
   "execution_count": 1,
   "metadata": {},
   "outputs": [],
   "source": [
    "import pandas as pd\n",
    "import numpy as np\n",
    "import re\n",
    "\n",
    "import matplotlib.pyplot as plt\n",
    "import seaborn as sns\n",
    "\n",
    "sns.set_style(\"whitegrid\")\n",
    "\n",
    "import nltk\n",
    "from sklearn.feature_extraction.text import CountVectorizer\n",
    "from sklearn.model_selection import train_test_split\n",
    "import googletrans\n",
    "import time\n",
    "from tqdm import tqdm\n",
    "\n",
    "import warnings\n",
    "warnings.filterwarnings(\"ignore\")"
   ]
  },
  {
   "cell_type": "code",
   "execution_count": 2,
   "metadata": {},
   "outputs": [
    {
     "data": {
      "text/html": [
       "<div>\n",
       "<style scoped>\n",
       "    .dataframe tbody tr th:only-of-type {\n",
       "        vertical-align: middle;\n",
       "    }\n",
       "\n",
       "    .dataframe tbody tr th {\n",
       "        vertical-align: top;\n",
       "    }\n",
       "\n",
       "    .dataframe thead th {\n",
       "        text-align: right;\n",
       "    }\n",
       "</style>\n",
       "<table border=\"1\" class=\"dataframe\">\n",
       "  <thead>\n",
       "    <tr style=\"text-align: right;\">\n",
       "      <th></th>\n",
       "      <th>Tweet</th>\n",
       "      <th>label</th>\n",
       "    </tr>\n",
       "  </thead>\n",
       "  <tbody>\n",
       "    <tr>\n",
       "      <th>0</th>\n",
       "      <td>Min, normal ke kalau iPhone 11/11 Pro /Pro Max...</td>\n",
       "      <td>baterai negatif</td>\n",
       "    </tr>\n",
       "    <tr>\n",
       "      <th>1</th>\n",
       "      <td>Kmera iphone 11 mmeng beda</td>\n",
       "      <td>kamera positif</td>\n",
       "    </tr>\n",
       "    <tr>\n",
       "      <th>2</th>\n",
       "      <td>Iphone 11 pro max kamera depannya jelek ye? Gu...</td>\n",
       "      <td>kamera negatif</td>\n",
       "    </tr>\n",
       "    <tr>\n",
       "      <th>3</th>\n",
       "      <td>Apple meluncurkan iPhone 11 dengan peningkatan...</td>\n",
       "      <td>baterai positif</td>\n",
       "    </tr>\n",
       "    <tr>\n",
       "      <th>4</th>\n",
       "      <td>xs max, senderrr. tapi rugi sih kalo kamu beli...</td>\n",
       "      <td>spesifikasi positif,harga positif</td>\n",
       "    </tr>\n",
       "    <tr>\n",
       "      <th>...</th>\n",
       "      <td>...</td>\n",
       "      <td>...</td>\n",
       "    </tr>\n",
       "    <tr>\n",
       "      <th>743</th>\n",
       "      <td>ga keren banget masa charger bawaannya belum f...</td>\n",
       "      <td>baterai negatif</td>\n",
       "    </tr>\n",
       "    <tr>\n",
       "      <th>744</th>\n",
       "      <td>yaelah belum fast charging, lama nih kalo ngec...</td>\n",
       "      <td>baterai negatif</td>\n",
       "    </tr>\n",
       "    <tr>\n",
       "      <th>745</th>\n",
       "      <td>butuh waku lama buat ngecharge kalo pake charg...</td>\n",
       "      <td>baterai negatif</td>\n",
       "    </tr>\n",
       "    <tr>\n",
       "      <th>746</th>\n",
       "      <td>udah mahal begini masa chargernya blm fast cha...</td>\n",
       "      <td>baterai negatif</td>\n",
       "    </tr>\n",
       "    <tr>\n",
       "      <th>747</th>\n",
       "      <td>kapasitas baterainya masih kalah dibanding pro...</td>\n",
       "      <td>baterai negatif</td>\n",
       "    </tr>\n",
       "  </tbody>\n",
       "</table>\n",
       "<p>748 rows × 2 columns</p>\n",
       "</div>"
      ],
      "text/plain": [
       "                                                 Tweet  \\\n",
       "0    Min, normal ke kalau iPhone 11/11 Pro /Pro Max...   \n",
       "1                           Kmera iphone 11 mmeng beda   \n",
       "2    Iphone 11 pro max kamera depannya jelek ye? Gu...   \n",
       "3    Apple meluncurkan iPhone 11 dengan peningkatan...   \n",
       "4    xs max, senderrr. tapi rugi sih kalo kamu beli...   \n",
       "..                                                 ...   \n",
       "743  ga keren banget masa charger bawaannya belum f...   \n",
       "744  yaelah belum fast charging, lama nih kalo ngec...   \n",
       "745  butuh waku lama buat ngecharge kalo pake charg...   \n",
       "746  udah mahal begini masa chargernya blm fast cha...   \n",
       "747  kapasitas baterainya masih kalah dibanding pro...   \n",
       "\n",
       "                                 label  \n",
       "0                      baterai negatif  \n",
       "1                       kamera positif  \n",
       "2                       kamera negatif  \n",
       "3                      baterai positif  \n",
       "4    spesifikasi positif,harga positif  \n",
       "..                                 ...  \n",
       "743                    baterai negatif  \n",
       "744                    baterai negatif  \n",
       "745                    baterai negatif  \n",
       "746                    baterai negatif  \n",
       "747                    baterai negatif  \n",
       "\n",
       "[748 rows x 2 columns]"
      ]
     },
     "execution_count": 2,
     "metadata": {},
     "output_type": "execute_result"
    }
   ],
   "source": [
    "dataset = pd.read_csv(\"../data/dataset/dataset.csv\", sep=';', encoding=\"ISO-8859-1\")\n",
    "dataset"
   ]
  },
  {
   "cell_type": "code",
   "execution_count": 3,
   "metadata": {},
   "outputs": [],
   "source": [
    "label_size0 = []\n",
    "label_size1 = []\n",
    "label_size2 = []\n",
    "label_size3 = []\n",
    "label_size4 = []\n",
    "label_size5 = []\n",
    "label_size6 = []\n",
    "label_size7 = []\n",
    "label_size8 = []\n",
    "label_size9 = []\n",
    "\n",
    "for i in dataset.columns[1:]:\n",
    "    label_size0.append(len(dataset[dataset[i]=='kamera positif']))\n",
    "    label_size1.append(len(dataset[dataset[i]=='kamera negatif']))\n",
    "    label_size2.append(len(dataset[dataset[i]=='baterai positif']))\n",
    "    label_size3.append(len(dataset[dataset[i]=='baterai negatif']))\n",
    "    label_size4.append(len(dataset[dataset[i]=='spesifikasi positif']))\n",
    "    label_size5.append(len(dataset[dataset[i]=='spesifikasi negatif']))\n",
    "    label_size6.append(len(dataset[dataset[i]=='harga positif']))\n",
    "    label_size7.append(len(dataset[dataset[i]=='harga negatif']))\n",
    "    label_size8.append(len(dataset[dataset[i]=='general positif']))\n",
    "    label_size9.append(len(dataset[dataset[i]=='general negatif']))"
   ]
  },
  {
   "cell_type": "code",
   "execution_count": 5,
   "metadata": {},
   "outputs": [],
   "source": [
    "dat_anls_kamera = pd.DataFrame({\n",
    "    'label' : dataset.columns[1:],\n",
    "    'positif' : label_size0,\n",
    "    'negatif' : label_size1\n",
    "})\n",
    "\n",
    "dat_anls_kamera = dat_anls_kamera.set_index(['label'], drop=True)"
   ]
  },
  {
   "cell_type": "code",
   "execution_count": 8,
   "metadata": {},
   "outputs": [
    {
     "data": {
      "image/png": "[encoded data removed]",
      "text/plain": [
       "<Figure size 1440x720 with 1 Axes>"
      ]
     },
     "metadata": {},
     "output_type": "display_data"
    }
   ],
   "source": [
    "dat_anls_kamera.loc[:,['positif','negatif']].plot.bar(color=['blue','red'], figsize=(20,10))\n",
    "plt.title(\"Perbandingan jumlah label aspek kamera\")\n",
    "plt.xlabel('Label')\n",
    "plt.ylabel('Jumlah')\n",
    "plt.show()"
   ]
  },
  {
   "cell_type": "code",
   "execution_count": null,
   "metadata": {},
   "outputs": [],
   "source": []
  }
 ],
 "metadata": {
  "kernelspec": {
   "display_name": "Python 3",
   "language": "python",
   "name": "python3"
  },
  "language_info": {
   "codemirror_mode": {
    "name": "ipython",
    "version": 3
   },
   "file_extension": ".py",
   "mimetype": "text/x-python",
   "name": "python",
   "nbconvert_exporter": "python",
   "pygments_lexer": "ipython3",
   "version": "3.7.2"
  }
 },
 "nbformat": 4,
 "nbformat_minor": 4
}
